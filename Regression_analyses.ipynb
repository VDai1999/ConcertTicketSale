{
  "nbformat": 4,
  "nbformat_minor": 0,
  "metadata": {
    "kernelspec": {
      "display_name": "Python 3",
      "language": "python",
      "name": "python3"
    },
    "language_info": {
      "codemirror_mode": {
        "name": "ipython",
        "version": 3
      },
      "file_extension": ".py",
      "mimetype": "text/x-python",
      "name": "python",
      "nbconvert_exporter": "python",
      "pygments_lexer": "ipython3",
      "version": "3.7.4"
    },
    "colab": {
      "name": "Regression_analyses.ipynb",
      "provenance": [],
      "include_colab_link": true
    }
  },
  "cells": [
    {
      "cell_type": "markdown",
      "metadata": {
        "id": "view-in-github",
        "colab_type": "text"
      },
      "source": [
        "<a href=\"https://colab.research.google.com/github/VDai1999/ConcertTicketSale/blob/main/Regression_analyses.ipynb\" target=\"_parent\"><img src=\"https://colab.research.google.com/assets/colab-badge.svg\" alt=\"Open In Colab\"/></a>"
      ]
    },
    {
      "cell_type": "markdown",
      "metadata": {
        "id": "GHAhQpEIkoIb"
      },
      "source": [
        "## 1. Load dataset and prepare data"
      ]
    },
    {
      "cell_type": "code",
      "metadata": {
        "id": "oNd3jYp9krix"
      },
      "source": [
        "#Import packages\n",
        "import pandas as pd\n",
        "import numpy as np\n",
        "from sklearn import metrics\n",
        "from sklearn.model_selection import LeaveOneOut\n",
        "import matplotlib.pyplot as plt\n",
        "import seaborn as sns\n",
        "from sklearn.ensemble import RandomForestRegressor\n",
        "from sklearn.linear_model import Ridge\n",
        "from sklearn.linear_model import Lasso\n",
        "from sklearn.metrics import mean_squared_error\n",
        "from sklearn import neighbors\n",
        "from sklearn.tree import DecisionTreeRegressor\n",
        "from sklearn.metrics import make_scorer,r2_score\n",
        "from sklearn.metrics import mean_squared_error"
      ],
      "execution_count": null,
      "outputs": []
    },
    {
      "cell_type": "code",
      "metadata": {
        "id": "h3WddxEVkoIc"
      },
      "source": [
        "#Load data\n",
        "data= pd.read_csv(\"train_valid.csv\")\n",
        "test = pd.read_csv(\"test.csv\")"
      ],
      "execution_count": null,
      "outputs": []
    },
    {
      "cell_type": "code",
      "metadata": {
        "scrolled": true,
        "id": "prNyLK8SkoId"
      },
      "source": [
        "data.shape"
      ],
      "execution_count": null,
      "outputs": []
    },
    {
      "cell_type": "code",
      "metadata": {
        "id": "CmMLMIiNkoIe"
      },
      "source": [
        "# select predictors\n",
        "X = data.loc[:,'View':'cou_score']\n",
        "X = X.drop(['type'], axis=1) # Drop type variable since it is not different among records"
      ],
      "execution_count": null,
      "outputs": []
    },
    {
      "cell_type": "code",
      "metadata": {
        "scrolled": false,
        "id": "puptEvAVkoIf"
      },
      "source": [
        "X.head()"
      ],
      "execution_count": null,
      "outputs": []
    },
    {
      "cell_type": "code",
      "metadata": {
        "scrolled": true,
        "id": "EzZZlXQ5koIf"
      },
      "source": [
        "# select target\n",
        "y=data[['Millions']]\n",
        "y.head()"
      ],
      "execution_count": null,
      "outputs": []
    },
    {
      "cell_type": "markdown",
      "metadata": {
        "id": "2SI0CLZXkoIg"
      },
      "source": [
        "## 2. Feature Selection"
      ]
    },
    {
      "cell_type": "markdown",
      "metadata": {
        "id": "WMEcY1D_koIh"
      },
      "source": [
        "Correlatiion Between Variables"
      ]
    },
    {
      "cell_type": "code",
      "metadata": {
        "id": "JIl6ZD2pkoIh"
      },
      "source": [
        "#Using Pearson Correlation\n",
        "plt.figure(figsize=(12,10))\n",
        "cor = data.corr()\n",
        "sns.heatmap(cor, annot=True, cmap=plt.cm.Reds)\n",
        "plt.show()"
      ],
      "execution_count": null,
      "outputs": []
    },
    {
      "cell_type": "markdown",
      "metadata": {
        "id": "L_bo9ILIkoIi"
      },
      "source": [
        "Selecting highly correlated features"
      ]
    },
    {
      "cell_type": "code",
      "metadata": {
        "id": "nyD5QicSkoIj"
      },
      "source": [
        "#Correlation with output variable\n",
        "cor_target = abs(cor[\"Millions\"])\n",
        "relevant_features = cor_target[cor_target>0.1]\n",
        "relevant_features"
      ],
      "execution_count": null,
      "outputs": []
    },
    {
      "cell_type": "markdown",
      "metadata": {
        "id": "sLiPI9PVkoIj"
      },
      "source": [
        "Forward Selection"
      ]
    },
    {
      "cell_type": "code",
      "metadata": {
        "scrolled": true,
        "id": "-VjPbBF8koIj"
      },
      "source": [
        "from mlxtend.feature_selection import SequentialFeatureSelector as SFS\n",
        "from sklearn.linear_model import LinearRegression\n",
        "\n",
        "sfs = SFS(LinearRegression(),\n",
        "           k_features=11,\n",
        "           forward=True,\n",
        "           floating=False,\n",
        "           scoring = 'r2',\n",
        "           cv = 10)\n",
        "\n",
        "sfs.fit(X, y)\n",
        "sfs.k_feature_names_"
      ],
      "execution_count": null,
      "outputs": []
    },
    {
      "cell_type": "markdown",
      "metadata": {
        "id": "5Lg18rvikoIk"
      },
      "source": [
        "Backward selection"
      ]
    },
    {
      "cell_type": "code",
      "metadata": {
        "id": "llkuxQqzkoIk"
      },
      "source": [
        "sbs = SFS(LinearRegression(), \n",
        "          k_features=11, \n",
        "          forward=False, \n",
        "          floating=False,\n",
        "          scoring = 'r2',\n",
        "          cv=10)\n",
        "sbs.fit(X, y)\n",
        "sbs.k_feature_names_"
      ],
      "execution_count": null,
      "outputs": []
    },
    {
      "cell_type": "markdown",
      "metadata": {
        "id": "fw8oAz2ekoIk"
      },
      "source": [
        "Select predictors variables after doing feature selection"
      ]
    },
    {
      "cell_type": "code",
      "metadata": {
        "id": "A5v8DkgikoIk"
      },
      "source": [
        "X = X[['View', 'Dislike', 'danceability', 'energy', 'acousticness', 'instrumentalness', 'liveness', \n",
        "       'duration_ms', 'neg_score', 'pos_score', 'cou_score']]"
      ],
      "execution_count": null,
      "outputs": []
    },
    {
      "cell_type": "code",
      "metadata": {
        "id": "SDnmXGVvkoIl"
      },
      "source": [
        "X.head()"
      ],
      "execution_count": null,
      "outputs": []
    },
    {
      "cell_type": "code",
      "metadata": {
        "id": "9205lzCOkoIl"
      },
      "source": [
        "X_array = np.array(X)\n",
        "y_array = np.array(y)"
      ],
      "execution_count": null,
      "outputs": []
    },
    {
      "cell_type": "code",
      "metadata": {
        "id": "3h52zhTqkoIl"
      },
      "source": [
        "loo = LeaveOneOut()\n",
        "\n",
        "def model_use_LOOCV(md):\n",
        "    ytests = []\n",
        "    ypreds = []\n",
        "    for train_idx, test_idx in loo.split(X):\n",
        "        X_train, X_test = X_array[train_idx], X_array[test_idx] #requires arrays\n",
        "        y_train, y_test = y_array[train_idx], y_array[test_idx]\n",
        "    \n",
        "        model = md\n",
        "        model.fit(X = X_train, y = y_train.ravel()) \n",
        "        y_pred = model.predict(X_test)\n",
        "                \n",
        "        ytests += list(y_test)\n",
        "        ypreds += list(y_pred)\n",
        "    \n",
        "    ms_error = metrics.mean_squared_error(ytests, ypreds, squared=False)\n",
        "        \n",
        "    print(\"RMSE: {:.5f}\".format(ms_error))"
      ],
      "execution_count": null,
      "outputs": []
    },
    {
      "cell_type": "markdown",
      "metadata": {
        "id": "3SQoGpL8koIl"
      },
      "source": [
        "## 3. Decision trees using LOOCV"
      ]
    },
    {
      "cell_type": "code",
      "metadata": {
        "scrolled": true,
        "id": "nMeBaDqukoIm"
      },
      "source": [
        "# initialize the dtree algorithm\n",
        "dtree1=DecisionTreeRegressor(random_state=50)\n",
        "# use friedman_mse criterion for the change\n",
        "dtree2=DecisionTreeRegressor(random_state=50, criterion ='friedman_mse')\n",
        "# change the depth of tree\n",
        "dtree3=DecisionTreeRegressor(random_state=50, max_depth = 8)"
      ],
      "execution_count": null,
      "outputs": []
    },
    {
      "cell_type": "markdown",
      "metadata": {
        "id": "9NEEq8e6koIm"
      },
      "source": [
        "## 4. Random Forest Using LOOCV"
      ]
    },
    {
      "cell_type": "code",
      "metadata": {
        "id": "WzYQ7NS_koIm"
      },
      "source": [
        "# create a random forest with 100 or 50 or 10  trees\n",
        "rforest1=RandomForestRegressor(random_state=50,n_estimators=10)\n",
        "rforest2=RandomForestRegressor(random_state=50,n_estimators=50)\n",
        "rforest3=RandomForestRegressor(random_state=50,n_estimators=100)\n",
        "\n",
        "# create a random forest with 10, 100 trees with max_depth of 8\n",
        "rforest4=RandomForestRegressor(random_state=50,n_estimators=10, max_depth = 5)\n",
        "rforest5=RandomForestRegressor(random_state=50,n_estimators=100, max_depth = 8)"
      ],
      "execution_count": null,
      "outputs": []
    },
    {
      "cell_type": "markdown",
      "metadata": {
        "id": "30IUgPEtkoIm"
      },
      "source": [
        "## 5. K-Nearest Neighbor Model"
      ]
    },
    {
      "cell_type": "code",
      "metadata": {
        "id": "NJXtlQXokoIn"
      },
      "source": [
        "# k-nearest neighbors model \n",
        "knn1 = neighbors.KNeighborsRegressor(n_neighbors = 45)"
      ],
      "execution_count": null,
      "outputs": []
    },
    {
      "cell_type": "markdown",
      "metadata": {
        "id": "26qLeSf7koIn"
      },
      "source": [
        "## 4. Lasso Regression Using LOOCV"
      ]
    },
    {
      "cell_type": "code",
      "metadata": {
        "id": "sCrEGdEQkoIn"
      },
      "source": [
        "lasso1 = Lasso()\n",
        "lasso2 = Lasso(alpha=0.3, normalize=True, max_iter=30)\n",
        "lasso3 = Lasso(alpha=0.7, normalize=True, max_iter=50)"
      ],
      "execution_count": null,
      "outputs": []
    },
    {
      "cell_type": "markdown",
      "metadata": {
        "id": "HP9O7RgIkoIp"
      },
      "source": [
        "## 6. Ridge Regression Uing LOOCV"
      ]
    },
    {
      "cell_type": "code",
      "metadata": {
        "id": "Hj4UMAeOkoIq"
      },
      "source": [
        "# ridge regression models\n",
        "rr1 = Ridge(normalize=True)\n",
        "rr2 = Ridge(alpha = 0.7,normalize=True)"
      ],
      "execution_count": null,
      "outputs": []
    },
    {
      "cell_type": "markdown",
      "metadata": {
        "id": "zzGVJMaqkoIq"
      },
      "source": [
        "## 7. Compare Models "
      ]
    },
    {
      "cell_type": "code",
      "metadata": {
        "id": "sBuTHM6ckoIq"
      },
      "source": [
        "print(\"Decision Tree Model 1: \")\n",
        "model_use_LOOCV(dtree1)\n",
        "print(\"=\"*80)\n",
        "print(\"Decision Tree Model 2: \")\n",
        "model_use_LOOCV(dtree2)\n",
        "print(\"=\"*80)\n",
        "print(\"Decision Tree Model 3: \")\n",
        "model_use_LOOCV(dtree3)\n",
        "print(\"=\"*80)\n",
        "print(\"Random Forest Model 1: \")\n",
        "model_use_LOOCV(rforest1)\n",
        "print(\"=\"*80)\n",
        "print(\"Random Forest Model 2: \")\n",
        "model_use_LOOCV(rforest2)\n",
        "print(\"=\"*80)\n",
        "print(\"Random Forest Model 3: \")\n",
        "model_use_LOOCV(rforest3)\n",
        "print(\"=\"*80)\n",
        "print(\"Random Forest Model 4: \")\n",
        "model_use_LOOCV(rforest4)\n",
        "print(\"=\"*80)\n",
        "print(\"Random Forest Model 5: \")\n",
        "model_use_LOOCV(rforest5)\n",
        "print(\"=\"*80)\n",
        "print(\"K-Nearest Negibor with K = 45: \")\n",
        "model_use_LOOCV(knn1)\n",
        "print(\"=\"*80)\n",
        "print(\"Lasso Regression Model 1: \")\n",
        "model_use_LOOCV(lasso1)\n",
        "print(\"=\"*80)\n",
        "print(\"Lasso Regression Model 2: \")\n",
        "model_use_LOOCV(lasso2)\n",
        "print(\"=\"*80)\n",
        "print(\"Lasso Regression Model 3: \")\n",
        "model_use_LOOCV(lasso3)\n",
        "print(\"=\"*80)\n",
        "print(\"Ridge Regression Model 1: \")\n",
        "model_use_LOOCV(rr1)\n",
        "print(\"=\"*80)\n",
        "print(\"Ridge Regression Model 2: \")\n",
        "model_use_LOOCV(rr2)"
      ],
      "execution_count": null,
      "outputs": []
    },
    {
      "cell_type": "markdown",
      "metadata": {
        "id": "bOjDR9eJkoIr"
      },
      "source": [
        "- **As Ridge Regression 1 has the smallest RMSE of 114.12892, so we will use that as the model to predict the concert sale in 2020 for artists (in test data).**"
      ]
    },
    {
      "cell_type": "code",
      "metadata": {
        "id": "kSXF9YmakoIr"
      },
      "source": [
        "model = rr1"
      ],
      "execution_count": null,
      "outputs": []
    },
    {
      "cell_type": "markdown",
      "metadata": {
        "id": "4IM--PPckoIr"
      },
      "source": [
        "## 8. Use the final to predict the sale in 2020"
      ]
    },
    {
      "cell_type": "code",
      "metadata": {
        "scrolled": false,
        "id": "eQsLEeVIkoIr"
      },
      "source": [
        "test.head()"
      ],
      "execution_count": null,
      "outputs": []
    },
    {
      "cell_type": "code",
      "metadata": {
        "id": "A2fdSAIqkoIr"
      },
      "source": [
        "X_pred = test[['View', 'Dislike', 'danceability', 'energy', 'acousticness', 'instrumentalness', 'liveness', \n",
        "               'duration_ms', 'neg_score', 'pos_score', 'cou_score']]\n",
        "#X_pred = pd.get_dummies(X_pred,drop_first=True)"
      ],
      "execution_count": null,
      "outputs": []
    },
    {
      "cell_type": "code",
      "metadata": {
        "scrolled": false,
        "id": "ju2fdOY5koIr"
      },
      "source": [
        "model.fit(X, y)  #fit the model\n",
        "pred = model.predict(X_pred) #make prediction on test set\n",
        "# assign the columns to test data \n",
        "test[\"Millions\"] = pred\n",
        "# sort the test data predictions by sale \n",
        "test = test.sort_values(by = 'Millions', ascending = False).reset_index(drop = True)\n",
        "# keep only year and artist, sale\n",
        "test = test[[\"Year\",\"Artist\", \"Millions\"]]\n",
        "test"
      ],
      "execution_count": null,
      "outputs": []
    },
    {
      "cell_type": "code",
      "metadata": {
        "id": "xF2iqxrWkoIs"
      },
      "source": [
        "# save as a resulting csv file \n",
        "test.to_csv(\"test_results.csv\", index=False)"
      ],
      "execution_count": null,
      "outputs": []
    },
    {
      "cell_type": "code",
      "metadata": {
        "id": "Tx6rMKhCkoIs"
      },
      "source": [
        "#import matplotlib.pyplot as plt\n",
        "df = pd.concat([data,test], ignore_index=True)\n",
        "df = df[[\"Year\",\"Artist\", \"Millions\"]]\n",
        "df = df.drop_duplicates()"
      ],
      "execution_count": null,
      "outputs": []
    },
    {
      "cell_type": "code",
      "metadata": {
        "scrolled": true,
        "id": "IGi8EF0xkoIs"
      },
      "source": [
        "# example plot of Ed Sheeran sale (because of the views counted in half of year 2020)\n",
        "df = df[df[\"Artist\"]==\"Ed Sheeran\"]\n",
        "plt.bar(df['Year'], df['Millions'])"
      ],
      "execution_count": null,
      "outputs": []
    }
  ]
}