{
 "cells": [
  {
   "cell_type": "markdown",
   "metadata": {},
   "source": [
    "## 1. Load dataset and prepare data"
   ]
  },
  {
   "cell_type": "code",
   "execution_count": 1,
   "metadata": {},
   "outputs": [],
   "source": [
    "# load data\n",
    "import pandas as pd\n",
    "import numpy as np\n",
    "\n",
    "data= pd.read_csv(\"train_valid.csv\")\n",
    "test = pd.read_csv(\"test.csv\")"
   ]
  },
  {
   "cell_type": "code",
   "execution_count": 2,
   "metadata": {
    "scrolled": true
   },
   "outputs": [
    {
     "data": {
      "text/plain": [
       "(134, 22)"
      ]
     },
     "execution_count": 2,
     "metadata": {},
     "output_type": "execute_result"
    }
   ],
   "source": [
    "data.shape"
   ]
  },
  {
   "cell_type": "code",
   "execution_count": 3,
   "metadata": {},
   "outputs": [],
   "source": [
    "# select predictors\n",
    "X = data.loc[:,'View':'cou_score']\n",
    "X = X.drop(['type'], axis=1) # Drop type variable since it is not different among records"
   ]
  },
  {
   "cell_type": "code",
   "execution_count": 4,
   "metadata": {
    "scrolled": false
   },
   "outputs": [
    {
     "data": {
      "text/html": [
       "<div>\n",
       "<style scoped>\n",
       "    .dataframe tbody tr th:only-of-type {\n",
       "        vertical-align: middle;\n",
       "    }\n",
       "\n",
       "    .dataframe tbody tr th {\n",
       "        vertical-align: top;\n",
       "    }\n",
       "\n",
       "    .dataframe thead th {\n",
       "        text-align: right;\n",
       "    }\n",
       "</style>\n",
       "<table border=\"1\" class=\"dataframe\">\n",
       "  <thead>\n",
       "    <tr style=\"text-align: right;\">\n",
       "      <th></th>\n",
       "      <th>View</th>\n",
       "      <th>Like</th>\n",
       "      <th>Dislike</th>\n",
       "      <th>danceability</th>\n",
       "      <th>energy</th>\n",
       "      <th>speechiness</th>\n",
       "      <th>acousticness</th>\n",
       "      <th>instrumentalness</th>\n",
       "      <th>liveness</th>\n",
       "      <th>valence</th>\n",
       "      <th>tempo</th>\n",
       "      <th>duration_ms</th>\n",
       "      <th>popularity</th>\n",
       "      <th>neg_score</th>\n",
       "      <th>neu_score</th>\n",
       "      <th>pos_score</th>\n",
       "      <th>cou_score</th>\n",
       "    </tr>\n",
       "  </thead>\n",
       "  <tbody>\n",
       "    <tr>\n",
       "      <th>0</th>\n",
       "      <td>3.486371e+08</td>\n",
       "      <td>2353239.0</td>\n",
       "      <td>130665.0</td>\n",
       "      <td>0.889</td>\n",
       "      <td>0.496</td>\n",
       "      <td>0.091</td>\n",
       "      <td>0.259</td>\n",
       "      <td>0.0</td>\n",
       "      <td>0.252</td>\n",
       "      <td>0.544</td>\n",
       "      <td>86.0</td>\n",
       "      <td>180522.0</td>\n",
       "      <td>84</td>\n",
       "      <td>0.087915</td>\n",
       "      <td>0.718298</td>\n",
       "      <td>0.193809</td>\n",
       "      <td>0.153996</td>\n",
       "    </tr>\n",
       "    <tr>\n",
       "      <th>1</th>\n",
       "      <td>6.627059e+08</td>\n",
       "      <td>8520437.0</td>\n",
       "      <td>261554.0</td>\n",
       "      <td>0.585</td>\n",
       "      <td>0.520</td>\n",
       "      <td>0.071</td>\n",
       "      <td>0.124</td>\n",
       "      <td>0.0</td>\n",
       "      <td>0.131</td>\n",
       "      <td>0.129</td>\n",
       "      <td>160.0</td>\n",
       "      <td>218147.0</td>\n",
       "      <td>88</td>\n",
       "      <td>0.009598</td>\n",
       "      <td>0.754530</td>\n",
       "      <td>0.027538</td>\n",
       "      <td>0.016436</td>\n",
       "    </tr>\n",
       "    <tr>\n",
       "      <th>2</th>\n",
       "      <td>1.130104e+09</td>\n",
       "      <td>11480794.0</td>\n",
       "      <td>431209.0</td>\n",
       "      <td>0.754</td>\n",
       "      <td>0.449</td>\n",
       "      <td>0.109</td>\n",
       "      <td>0.033</td>\n",
       "      <td>0.0</td>\n",
       "      <td>0.552</td>\n",
       "      <td>0.357</td>\n",
       "      <td>77.0</td>\n",
       "      <td>198973.0</td>\n",
       "      <td>85</td>\n",
       "      <td>0.080420</td>\n",
       "      <td>0.663640</td>\n",
       "      <td>0.215960</td>\n",
       "      <td>0.142170</td>\n",
       "    </tr>\n",
       "    <tr>\n",
       "      <th>3</th>\n",
       "      <td>2.202959e+08</td>\n",
       "      <td>3657786.0</td>\n",
       "      <td>175288.0</td>\n",
       "      <td>0.835</td>\n",
       "      <td>0.626</td>\n",
       "      <td>0.125</td>\n",
       "      <td>0.059</td>\n",
       "      <td>0.0</td>\n",
       "      <td>0.396</td>\n",
       "      <td>0.350</td>\n",
       "      <td>91.0</td>\n",
       "      <td>217925.0</td>\n",
       "      <td>83</td>\n",
       "      <td>0.058980</td>\n",
       "      <td>0.771120</td>\n",
       "      <td>0.169900</td>\n",
       "      <td>0.112620</td>\n",
       "    </tr>\n",
       "    <tr>\n",
       "      <th>4</th>\n",
       "      <td>6.805167e+08</td>\n",
       "      <td>4054252.0</td>\n",
       "      <td>117924.0</td>\n",
       "      <td>0.672</td>\n",
       "      <td>0.655</td>\n",
       "      <td>0.031</td>\n",
       "      <td>0.036</td>\n",
       "      <td>0.0</td>\n",
       "      <td>0.117</td>\n",
       "      <td>0.556</td>\n",
       "      <td>135.0</td>\n",
       "      <td>201240.0</td>\n",
       "      <td>81</td>\n",
       "      <td>0.077653</td>\n",
       "      <td>0.683429</td>\n",
       "      <td>0.238918</td>\n",
       "      <td>0.211324</td>\n",
       "    </tr>\n",
       "  </tbody>\n",
       "</table>\n",
       "</div>"
      ],
      "text/plain": [
       "           View        Like   Dislike  danceability  energy  speechiness  \\\n",
       "0  3.486371e+08   2353239.0  130665.0         0.889   0.496        0.091   \n",
       "1  6.627059e+08   8520437.0  261554.0         0.585   0.520        0.071   \n",
       "2  1.130104e+09  11480794.0  431209.0         0.754   0.449        0.109   \n",
       "3  2.202959e+08   3657786.0  175288.0         0.835   0.626        0.125   \n",
       "4  6.805167e+08   4054252.0  117924.0         0.672   0.655        0.031   \n",
       "\n",
       "   acousticness  instrumentalness  liveness  valence  tempo  duration_ms  \\\n",
       "0         0.259               0.0     0.252    0.544   86.0     180522.0   \n",
       "1         0.124               0.0     0.131    0.129  160.0     218147.0   \n",
       "2         0.033               0.0     0.552    0.357   77.0     198973.0   \n",
       "3         0.059               0.0     0.396    0.350   91.0     217925.0   \n",
       "4         0.036               0.0     0.117    0.556  135.0     201240.0   \n",
       "\n",
       "   popularity  neg_score  neu_score  pos_score  cou_score  \n",
       "0          84   0.087915   0.718298   0.193809   0.153996  \n",
       "1          88   0.009598   0.754530   0.027538   0.016436  \n",
       "2          85   0.080420   0.663640   0.215960   0.142170  \n",
       "3          83   0.058980   0.771120   0.169900   0.112620  \n",
       "4          81   0.077653   0.683429   0.238918   0.211324  "
      ]
     },
     "execution_count": 4,
     "metadata": {},
     "output_type": "execute_result"
    }
   ],
   "source": [
    "X.head()"
   ]
  },
  {
   "cell_type": "code",
   "execution_count": 5,
   "metadata": {
    "scrolled": true
   },
   "outputs": [
    {
     "data": {
      "text/html": [
       "<div>\n",
       "<style scoped>\n",
       "    .dataframe tbody tr th:only-of-type {\n",
       "        vertical-align: middle;\n",
       "    }\n",
       "\n",
       "    .dataframe tbody tr th {\n",
       "        vertical-align: top;\n",
       "    }\n",
       "\n",
       "    .dataframe thead th {\n",
       "        text-align: right;\n",
       "    }\n",
       "</style>\n",
       "<table border=\"1\" class=\"dataframe\">\n",
       "  <thead>\n",
       "    <tr style=\"text-align: right;\">\n",
       "      <th></th>\n",
       "      <th>Millions</th>\n",
       "    </tr>\n",
       "  </thead>\n",
       "  <tbody>\n",
       "    <tr>\n",
       "      <th>0</th>\n",
       "      <td>79.0</td>\n",
       "    </tr>\n",
       "    <tr>\n",
       "      <th>1</th>\n",
       "      <td>20.9</td>\n",
       "    </tr>\n",
       "    <tr>\n",
       "      <th>2</th>\n",
       "      <td>79.0</td>\n",
       "    </tr>\n",
       "    <tr>\n",
       "      <th>3</th>\n",
       "      <td>79.0</td>\n",
       "    </tr>\n",
       "    <tr>\n",
       "      <th>4</th>\n",
       "      <td>67.4</td>\n",
       "    </tr>\n",
       "  </tbody>\n",
       "</table>\n",
       "</div>"
      ],
      "text/plain": [
       "   Millions\n",
       "0      79.0\n",
       "1      20.9\n",
       "2      79.0\n",
       "3      79.0\n",
       "4      67.4"
      ]
     },
     "execution_count": 5,
     "metadata": {},
     "output_type": "execute_result"
    }
   ],
   "source": [
    "# select target\n",
    "y=data[['Millions']]\n",
    "y.head()"
   ]
  },
  {
   "cell_type": "markdown",
   "metadata": {},
   "source": [
    "## 2. Feature Selection"
   ]
  },
  {
   "cell_type": "markdown",
   "metadata": {},
   "source": [
    "Correlatiion Between Variables"
   ]
  },
  {
   "cell_type": "code",
   "execution_count": 6,
   "metadata": {},
   "outputs": [
    {
     "data": {
      "image/png": "[encoded data removed]",
      "text/plain": [
       "<Figure size 864x720 with 2 Axes>"
      ]
     },
     "metadata": {
      "needs_background": "light"
     },
     "output_type": "display_data"
    }
   ],
   "source": [
    "import matplotlib.pyplot as plt\n",
    "import seaborn as sns\n",
    "#Using Pearson Correlation\n",
    "plt.figure(figsize=(12,10))\n",
    "cor = data.corr()\n",
    "sns.heatmap(cor, annot=True, cmap=plt.cm.Reds)\n",
    "plt.show()"
   ]
  },
  {
   "cell_type": "markdown",
   "metadata": {},
   "source": [
    "Selecting highly correlated features"
   ]
  },
  {
   "cell_type": "code",
   "execution_count": 7,
   "metadata": {},
   "outputs": [
    {
     "data": {
      "text/plain": [
       "Year                0.190312\n",
       "View                0.246744\n",
       "Like                0.208541\n",
       "Dislike             0.234133\n",
       "energy              0.110044\n",
       "speechiness         0.102878\n",
       "instrumentalness    0.103213\n",
       "duration_ms         0.137954\n",
       "neg_score           0.123657\n",
       "pos_score           0.101660\n",
       "cou_score           0.208996\n",
       "Millions            1.000000\n",
       "Name: Millions, dtype: float64"
      ]
     },
     "execution_count": 7,
     "metadata": {},
     "output_type": "execute_result"
    }
   ],
   "source": [
    "#Correlation with output variable\n",
    "cor_target = abs(cor[\"Millions\"])\n",
    "relevant_features = cor_target[cor_target>0.1]\n",
    "relevant_features"
   ]
  },
  {
   "cell_type": "markdown",
   "metadata": {},
   "source": [
    "Forward Selection"
   ]
  },
  {
   "cell_type": "code",
   "execution_count": 8,
   "metadata": {
    "scrolled": true
   },
   "outputs": [
    {
     "data": {
      "text/plain": [
       "('Like',\n",
       " 'energy',\n",
       " 'speechiness',\n",
       " 'acousticness',\n",
       " 'instrumentalness',\n",
       " 'valence',\n",
       " 'tempo',\n",
       " 'popularity',\n",
       " 'neg_score',\n",
       " 'pos_score',\n",
       " 'cou_score')"
      ]
     },
     "execution_count": 8,
     "metadata": {},
     "output_type": "execute_result"
    }
   ],
   "source": [
    "from mlxtend.feature_selection import SequentialFeatureSelector as SFS\n",
    "from sklearn.linear_model import LinearRegression\n",
    "\n",
    "sfs = SFS(LinearRegression(),\n",
    "           k_features=11,\n",
    "           forward=True,\n",
    "           floating=False,\n",
    "           scoring = 'r2',\n",
    "           cv = 10)\n",
    "\n",
    "sfs.fit(X, y)\n",
    "sfs.k_feature_names_"
   ]
  },
  {
   "cell_type": "markdown",
   "metadata": {},
   "source": [
    "Backward selection"
   ]
  },
  {
   "cell_type": "code",
   "execution_count": 9,
   "metadata": {},
   "outputs": [
    {
     "data": {
      "text/plain": [
       "('Like',\n",
       " 'energy',\n",
       " 'speechiness',\n",
       " 'acousticness',\n",
       " 'instrumentalness',\n",
       " 'valence',\n",
       " 'tempo',\n",
       " 'popularity',\n",
       " 'neg_score',\n",
       " 'pos_score',\n",
       " 'cou_score')"
      ]
     },
     "execution_count": 9,
     "metadata": {},
     "output_type": "execute_result"
    }
   ],
   "source": [
    "sbs = SFS(LinearRegression(), \n",
    "          k_features=11, \n",
    "          forward=False, \n",
    "          floating=False,\n",
    "          scoring = 'r2',\n",
    "          cv=10)\n",
    "sbs.fit(X, y)\n",
    "sbs.k_feature_names_"
   ]
  },
  {
   "cell_type": "markdown",
   "metadata": {},
   "source": [
    "Select predictors variables after doing feature selection"
   ]
  },
  {
   "cell_type": "code",
   "execution_count": 10,
   "metadata": {},
   "outputs": [],
   "source": [
    "X = X[['View', 'Dislike', 'danceability', 'energy', 'acousticness', 'instrumentalness', 'liveness', \n",
    "       'duration_ms', 'neg_score', 'pos_score', 'cou_score']]"
   ]
  },
  {
   "cell_type": "code",
   "execution_count": 11,
   "metadata": {},
   "outputs": [
    {
     "data": {
      "text/html": [
       "<div>\n",
       "<style scoped>\n",
       "    .dataframe tbody tr th:only-of-type {\n",
       "        vertical-align: middle;\n",
       "    }\n",
       "\n",
       "    .dataframe tbody tr th {\n",
       "        vertical-align: top;\n",
       "    }\n",
       "\n",
       "    .dataframe thead th {\n",
       "        text-align: right;\n",
       "    }\n",
       "</style>\n",
       "<table border=\"1\" class=\"dataframe\">\n",
       "  <thead>\n",
       "    <tr style=\"text-align: right;\">\n",
       "      <th></th>\n",
       "      <th>View</th>\n",
       "      <th>Dislike</th>\n",
       "      <th>danceability</th>\n",
       "      <th>energy</th>\n",
       "      <th>acousticness</th>\n",
       "      <th>instrumentalness</th>\n",
       "      <th>liveness</th>\n",
       "      <th>duration_ms</th>\n",
       "      <th>neg_score</th>\n",
       "      <th>pos_score</th>\n",
       "      <th>cou_score</th>\n",
       "    </tr>\n",
       "  </thead>\n",
       "  <tbody>\n",
       "    <tr>\n",
       "      <th>0</th>\n",
       "      <td>3.486371e+08</td>\n",
       "      <td>130665.0</td>\n",
       "      <td>0.889</td>\n",
       "      <td>0.496</td>\n",
       "      <td>0.259</td>\n",
       "      <td>0.0</td>\n",
       "      <td>0.252</td>\n",
       "      <td>180522.0</td>\n",
       "      <td>0.087915</td>\n",
       "      <td>0.193809</td>\n",
       "      <td>0.153996</td>\n",
       "    </tr>\n",
       "    <tr>\n",
       "      <th>1</th>\n",
       "      <td>6.627059e+08</td>\n",
       "      <td>261554.0</td>\n",
       "      <td>0.585</td>\n",
       "      <td>0.520</td>\n",
       "      <td>0.124</td>\n",
       "      <td>0.0</td>\n",
       "      <td>0.131</td>\n",
       "      <td>218147.0</td>\n",
       "      <td>0.009598</td>\n",
       "      <td>0.027538</td>\n",
       "      <td>0.016436</td>\n",
       "    </tr>\n",
       "    <tr>\n",
       "      <th>2</th>\n",
       "      <td>1.130104e+09</td>\n",
       "      <td>431209.0</td>\n",
       "      <td>0.754</td>\n",
       "      <td>0.449</td>\n",
       "      <td>0.033</td>\n",
       "      <td>0.0</td>\n",
       "      <td>0.552</td>\n",
       "      <td>198973.0</td>\n",
       "      <td>0.080420</td>\n",
       "      <td>0.215960</td>\n",
       "      <td>0.142170</td>\n",
       "    </tr>\n",
       "    <tr>\n",
       "      <th>3</th>\n",
       "      <td>2.202959e+08</td>\n",
       "      <td>175288.0</td>\n",
       "      <td>0.835</td>\n",
       "      <td>0.626</td>\n",
       "      <td>0.059</td>\n",
       "      <td>0.0</td>\n",
       "      <td>0.396</td>\n",
       "      <td>217925.0</td>\n",
       "      <td>0.058980</td>\n",
       "      <td>0.169900</td>\n",
       "      <td>0.112620</td>\n",
       "    </tr>\n",
       "    <tr>\n",
       "      <th>4</th>\n",
       "      <td>6.805167e+08</td>\n",
       "      <td>117924.0</td>\n",
       "      <td>0.672</td>\n",
       "      <td>0.655</td>\n",
       "      <td>0.036</td>\n",
       "      <td>0.0</td>\n",
       "      <td>0.117</td>\n",
       "      <td>201240.0</td>\n",
       "      <td>0.077653</td>\n",
       "      <td>0.238918</td>\n",
       "      <td>0.211324</td>\n",
       "    </tr>\n",
       "  </tbody>\n",
       "</table>\n",
       "</div>"
      ],
      "text/plain": [
       "           View   Dislike  danceability  energy  acousticness  \\\n",
       "0  3.486371e+08  130665.0         0.889   0.496         0.259   \n",
       "1  6.627059e+08  261554.0         0.585   0.520         0.124   \n",
       "2  1.130104e+09  431209.0         0.754   0.449         0.033   \n",
       "3  2.202959e+08  175288.0         0.835   0.626         0.059   \n",
       "4  6.805167e+08  117924.0         0.672   0.655         0.036   \n",
       "\n",
       "   instrumentalness  liveness  duration_ms  neg_score  pos_score  cou_score  \n",
       "0               0.0     0.252     180522.0   0.087915   0.193809   0.153996  \n",
       "1               0.0     0.131     218147.0   0.009598   0.027538   0.016436  \n",
       "2               0.0     0.552     198973.0   0.080420   0.215960   0.142170  \n",
       "3               0.0     0.396     217925.0   0.058980   0.169900   0.112620  \n",
       "4               0.0     0.117     201240.0   0.077653   0.238918   0.211324  "
      ]
     },
     "execution_count": 11,
     "metadata": {},
     "output_type": "execute_result"
    }
   ],
   "source": [
    "X.head()"
   ]
  },
  {
   "cell_type": "code",
   "execution_count": 12,
   "metadata": {},
   "outputs": [],
   "source": [
    "X_array = np.array(X)\n",
    "y_array = np.array(y)"
   ]
  },
  {
   "cell_type": "code",
   "execution_count": 13,
   "metadata": {},
   "outputs": [],
   "source": [
    "from sklearn import metrics\n",
    "from sklearn.model_selection import LeaveOneOut\n",
    "\n",
    "loo = LeaveOneOut()\n",
    "\n",
    "def model_use_LOOCV(md):\n",
    "    ytests = []\n",
    "    ypreds = []\n",
    "    for train_idx, test_idx in loo.split(X):\n",
    "        X_train, X_test = X_array[train_idx], X_array[test_idx] #requires arrays\n",
    "        y_train, y_test = y_array[train_idx], y_array[test_idx]\n",
    "    \n",
    "        model = md\n",
    "        model.fit(X = X_train, y = y_train.ravel()) \n",
    "        y_pred = model.predict(X_test)\n",
    "                \n",
    "        ytests += list(y_test)\n",
    "        ypreds += list(y_pred)\n",
    "    \n",
    "    ms_error = metrics.mean_squared_error(ytests, ypreds, squared=False)\n",
    "        \n",
    "    print(\"RMSE: {:.5f}\".format(ms_error))"
   ]
  },
  {
   "cell_type": "markdown",
   "metadata": {},
   "source": [
    "## 3. Decision trees using LOOCV"
   ]
  },
  {
   "cell_type": "code",
   "execution_count": 14,
   "metadata": {},
   "outputs": [],
   "source": [
    "from sklearn.tree import DecisionTreeRegressor\n",
    "from sklearn.metrics import make_scorer,r2_score\n",
    "from sklearn.metrics import mean_squared_error\n",
    "# from sklearn import model_selection"
   ]
  },
  {
   "cell_type": "code",
   "execution_count": 15,
   "metadata": {
    "scrolled": true
   },
   "outputs": [],
   "source": [
    "# initialize the dtree algorithm\n",
    "dtree1=DecisionTreeRegressor(random_state=50)\n",
    "# use friedman_mse criterion for the change\n",
    "dtree2=DecisionTreeRegressor(random_state=50, criterion ='friedman_mse')\n",
    "# change the depth of tree\n",
    "dtree3=DecisionTreeRegressor(random_state=50, max_depth = 8)"
   ]
  },
  {
   "cell_type": "markdown",
   "metadata": {},
   "source": [
    "## 4. Random Forest Using LOOCV"
   ]
  },
  {
   "cell_type": "code",
   "execution_count": 16,
   "metadata": {},
   "outputs": [],
   "source": [
    "from sklearn.ensemble import RandomForestRegressor"
   ]
  },
  {
   "cell_type": "code",
   "execution_count": 17,
   "metadata": {},
   "outputs": [],
   "source": [
    "# create a random forest with 100 or 50 or 10  trees\n",
    "rforest1=RandomForestRegressor(random_state=50,n_estimators=10)\n",
    "rforest2=RandomForestRegressor(random_state=50,n_estimators=50)\n",
    "rforest3=RandomForestRegressor(random_state=50,n_estimators=100)\n",
    "\n",
    "# create a random forest with 10, 100 trees with max_depth of 8\n",
    "rforest4=RandomForestRegressor(random_state=50,n_estimators=10, max_depth = 5)\n",
    "rforest5=RandomForestRegressor(random_state=50,n_estimators=100, max_depth = 8)"
   ]
  },
  {
   "cell_type": "markdown",
   "metadata": {},
   "source": [
    "## 5. K-Nearest Neighbor Model"
   ]
  },
  {
   "cell_type": "code",
   "execution_count": 18,
   "metadata": {},
   "outputs": [],
   "source": [
    "from sklearn import neighbors"
   ]
  },
  {
   "cell_type": "code",
   "execution_count": 19,
   "metadata": {},
   "outputs": [],
   "source": [
    "# k-nearest neighbors model \n",
    "\n",
    "# run the following to find best k from 1-50 for the model\n",
    "# for K in range(50):\n",
    "#     K = K+1\n",
    "#     model = neighbors.KNeighborsRegressor(n_neighbors = K)\n",
    "#     print('RMSE value for k= ' , K )\n",
    "#     model_use_LOOCV(model)\n",
    "\n",
    "knn1 = neighbors.KNeighborsRegressor(n_neighbors = 45)"
   ]
  },
  {
   "cell_type": "markdown",
   "metadata": {},
   "source": [
    "## 4. Lasso Regression Using LOOCV"
   ]
  },
  {
   "cell_type": "code",
   "execution_count": 20,
   "metadata": {},
   "outputs": [],
   "source": [
    "from sklearn.linear_model import Lasso\n",
    "from sklearn.metrics import mean_squared_error"
   ]
  },
  {
   "cell_type": "code",
   "execution_count": 21,
   "metadata": {},
   "outputs": [],
   "source": [
    "lasso1 = Lasso()\n",
    "lasso2 = Lasso(alpha=0.3, normalize=True, max_iter=30)\n",
    "lasso3 = Lasso(alpha=0.7, normalize=True, max_iter=50)"
   ]
  },
  {
   "cell_type": "markdown",
   "metadata": {},
   "source": [
    "## 6. Ridge Regression Uing LOOCV"
   ]
  },
  {
   "cell_type": "code",
   "execution_count": 22,
   "metadata": {},
   "outputs": [],
   "source": [
    "from sklearn.linear_model import Ridge"
   ]
  },
  {
   "cell_type": "code",
   "execution_count": 23,
   "metadata": {},
   "outputs": [],
   "source": [
    "# ridge regression models\n",
    "rr1 = Ridge(normalize=True)\n",
    "rr2 = Ridge(alpha = 0.7,normalize=True)"
   ]
  },
  {
   "cell_type": "markdown",
   "metadata": {},
   "source": [
    "## 7. Compare Models "
   ]
  },
  {
   "cell_type": "code",
   "execution_count": 24,
   "metadata": {},
   "outputs": [
    {
     "name": "stdout",
     "output_type": "stream",
     "text": [
      "Decision Tree Model 1: \n",
      "RMSE: 151.33624\n",
      "================================================================================\n",
      "Decision Tree Model 2: \n",
      "RMSE: 146.41776\n",
      "================================================================================\n",
      "Decision Tree Model 3: \n",
      "RMSE: 152.46119\n",
      "================================================================================\n",
      "Random Forest Model 1: \n",
      "RMSE: 124.98329\n",
      "================================================================================\n",
      "Random Forest Model 2: \n",
      "RMSE: 122.16177\n",
      "================================================================================\n",
      "Random Forest Model 3: \n",
      "RMSE: 122.05138\n",
      "================================================================================\n",
      "Random Forest Model 4: \n",
      "RMSE: 127.07184\n",
      "================================================================================\n",
      "Random Forest Model 5: \n",
      "RMSE: 123.33557\n",
      "================================================================================\n",
      "K-Nearest Negibor with K = 45: \n",
      "RMSE: 115.99033\n",
      "================================================================================\n",
      "Lasso Regression Model 1: \n",
      "RMSE: 116.37978\n",
      "================================================================================\n",
      "Lasso Regression Model 2: \n",
      "RMSE: 115.95587\n",
      "================================================================================\n",
      "Lasso Regression Model 3: \n",
      "RMSE: 116.20782\n",
      "================================================================================\n",
      "Ridge Regression Model 1: \n",
      "RMSE: 114.12892\n",
      "================================================================================\n",
      "Ridge Regression Model 2: \n",
      "RMSE: 114.18864\n"
     ]
    }
   ],
   "source": [
    "print(\"Decision Tree Model 1: \")\n",
    "model_use_LOOCV(dtree1)\n",
    "print(\"=\"*80)\n",
    "print(\"Decision Tree Model 2: \")\n",
    "model_use_LOOCV(dtree2)\n",
    "print(\"=\"*80)\n",
    "print(\"Decision Tree Model 3: \")\n",
    "model_use_LOOCV(dtree3)\n",
    "print(\"=\"*80)\n",
    "print(\"Random Forest Model 1: \")\n",
    "model_use_LOOCV(rforest1)\n",
    "print(\"=\"*80)\n",
    "print(\"Random Forest Model 2: \")\n",
    "model_use_LOOCV(rforest2)\n",
    "print(\"=\"*80)\n",
    "print(\"Random Forest Model 3: \")\n",
    "model_use_LOOCV(rforest3)\n",
    "print(\"=\"*80)\n",
    "print(\"Random Forest Model 4: \")\n",
    "model_use_LOOCV(rforest4)\n",
    "print(\"=\"*80)\n",
    "print(\"Random Forest Model 5: \")\n",
    "model_use_LOOCV(rforest5)\n",
    "print(\"=\"*80)\n",
    "print(\"K-Nearest Negibor with K = 45: \")\n",
    "model_use_LOOCV(knn1)\n",
    "print(\"=\"*80)\n",
    "print(\"Lasso Regression Model 1: \")\n",
    "model_use_LOOCV(lasso1)\n",
    "print(\"=\"*80)\n",
    "print(\"Lasso Regression Model 2: \")\n",
    "model_use_LOOCV(lasso2)\n",
    "print(\"=\"*80)\n",
    "print(\"Lasso Regression Model 3: \")\n",
    "model_use_LOOCV(lasso3)\n",
    "print(\"=\"*80)\n",
    "print(\"Ridge Regression Model 1: \")\n",
    "model_use_LOOCV(rr1)\n",
    "print(\"=\"*80)\n",
    "print(\"Ridge Regression Model 2: \")\n",
    "model_use_LOOCV(rr2)"
   ]
  },
  {
   "cell_type": "markdown",
   "metadata": {},
   "source": [
    "- **As Ridge Regression 1 has the smallest RMSE of 114.12892, so we will use that as the model to predict the concert sale in 2020 for artists (in test data).**"
   ]
  },
  {
   "cell_type": "code",
   "execution_count": 25,
   "metadata": {},
   "outputs": [],
   "source": [
    "model = rr1"
   ]
  },
  {
   "cell_type": "markdown",
   "metadata": {},
   "source": [
    "## 8. Use the final to predict the sale in 2020"
   ]
  },
  {
   "cell_type": "code",
   "execution_count": 26,
   "metadata": {
    "scrolled": false
   },
   "outputs": [
    {
     "data": {
      "text/html": [
       "<div>\n",
       "<style scoped>\n",
       "    .dataframe tbody tr th:only-of-type {\n",
       "        vertical-align: middle;\n",
       "    }\n",
       "\n",
       "    .dataframe tbody tr th {\n",
       "        vertical-align: top;\n",
       "    }\n",
       "\n",
       "    .dataframe thead th {\n",
       "        text-align: right;\n",
       "    }\n",
       "</style>\n",
       "<table border=\"1\" class=\"dataframe\">\n",
       "  <thead>\n",
       "    <tr style=\"text-align: right;\">\n",
       "      <th></th>\n",
       "      <th>Year</th>\n",
       "      <th>Artist</th>\n",
       "      <th>Song Name</th>\n",
       "      <th>View</th>\n",
       "      <th>Like</th>\n",
       "      <th>Dislike</th>\n",
       "      <th>danceability</th>\n",
       "      <th>energy</th>\n",
       "      <th>speechiness</th>\n",
       "      <th>acousticness</th>\n",
       "      <th>...</th>\n",
       "      <th>liveness</th>\n",
       "      <th>valence</th>\n",
       "      <th>tempo</th>\n",
       "      <th>type</th>\n",
       "      <th>duration_ms</th>\n",
       "      <th>popularity</th>\n",
       "      <th>neg_score</th>\n",
       "      <th>neu_score</th>\n",
       "      <th>pos_score</th>\n",
       "      <th>cou_score</th>\n",
       "    </tr>\n",
       "  </thead>\n",
       "  <tbody>\n",
       "    <tr>\n",
       "      <th>0</th>\n",
       "      <td>2020</td>\n",
       "      <td>Drake</td>\n",
       "      <td>Toosie Slide</td>\n",
       "      <td>59212131.0</td>\n",
       "      <td>1370881.0</td>\n",
       "      <td>49691.0</td>\n",
       "      <td>0.787</td>\n",
       "      <td>0.673</td>\n",
       "      <td>0.158</td>\n",
       "      <td>0.256</td>\n",
       "      <td>...</td>\n",
       "      <td>0.090</td>\n",
       "      <td>0.786</td>\n",
       "      <td>111.0</td>\n",
       "      <td>audio_features</td>\n",
       "      <td>237893.0</td>\n",
       "      <td>97</td>\n",
       "      <td>0.058761</td>\n",
       "      <td>0.769391</td>\n",
       "      <td>0.171870</td>\n",
       "      <td>0.140309</td>\n",
       "    </tr>\n",
       "    <tr>\n",
       "      <th>1</th>\n",
       "      <td>2020</td>\n",
       "      <td>Doja Cat</td>\n",
       "      <td>Say So (Official Video)</td>\n",
       "      <td>85600520.0</td>\n",
       "      <td>2206882.0</td>\n",
       "      <td>36219.0</td>\n",
       "      <td>0.777</td>\n",
       "      <td>0.658</td>\n",
       "      <td>0.054</td>\n",
       "      <td>0.077</td>\n",
       "      <td>...</td>\n",
       "      <td>0.090</td>\n",
       "      <td>0.633</td>\n",
       "      <td>110.0</td>\n",
       "      <td>audio_features</td>\n",
       "      <td>190360.0</td>\n",
       "      <td>83</td>\n",
       "      <td>0.032440</td>\n",
       "      <td>0.659060</td>\n",
       "      <td>0.308480</td>\n",
       "      <td>0.257262</td>\n",
       "    </tr>\n",
       "    <tr>\n",
       "      <th>2</th>\n",
       "      <td>2020</td>\n",
       "      <td>Taylor Swift</td>\n",
       "      <td>The Man (Official Video)</td>\n",
       "      <td>37774922.0</td>\n",
       "      <td>1297372.0</td>\n",
       "      <td>142309.0</td>\n",
       "      <td>0.777</td>\n",
       "      <td>0.658</td>\n",
       "      <td>0.054</td>\n",
       "      <td>0.077</td>\n",
       "      <td>...</td>\n",
       "      <td>0.090</td>\n",
       "      <td>0.633</td>\n",
       "      <td>110.0</td>\n",
       "      <td>audio_features</td>\n",
       "      <td>190360.0</td>\n",
       "      <td>83</td>\n",
       "      <td>0.095333</td>\n",
       "      <td>0.653111</td>\n",
       "      <td>0.229333</td>\n",
       "      <td>0.103829</td>\n",
       "    </tr>\n",
       "    <tr>\n",
       "      <th>3</th>\n",
       "      <td>2020</td>\n",
       "      <td>Billie Eilish</td>\n",
       "      <td>No Time To Die (Audio)</td>\n",
       "      <td>66616605.0</td>\n",
       "      <td>1964947.0</td>\n",
       "      <td>66981.0</td>\n",
       "      <td>0.380</td>\n",
       "      <td>0.219</td>\n",
       "      <td>0.036</td>\n",
       "      <td>0.917</td>\n",
       "      <td>...</td>\n",
       "      <td>0.083</td>\n",
       "      <td>0.052</td>\n",
       "      <td>74.0</td>\n",
       "      <td>audio_features</td>\n",
       "      <td>242265.0</td>\n",
       "      <td>89</td>\n",
       "      <td>0.115447</td>\n",
       "      <td>0.537021</td>\n",
       "      <td>0.347511</td>\n",
       "      <td>0.262334</td>\n",
       "    </tr>\n",
       "    <tr>\n",
       "      <th>4</th>\n",
       "      <td>2020</td>\n",
       "      <td>Selena Gomez</td>\n",
       "      <td>Boyfriend (Official Video)</td>\n",
       "      <td>27853456.0</td>\n",
       "      <td>1107681.0</td>\n",
       "      <td>59571.0</td>\n",
       "      <td>0.811</td>\n",
       "      <td>0.512</td>\n",
       "      <td>0.170</td>\n",
       "      <td>0.218</td>\n",
       "      <td>...</td>\n",
       "      <td>0.077</td>\n",
       "      <td>0.346</td>\n",
       "      <td>92.0</td>\n",
       "      <td>audio_features</td>\n",
       "      <td>161188.0</td>\n",
       "      <td>84</td>\n",
       "      <td>0.072435</td>\n",
       "      <td>0.702913</td>\n",
       "      <td>0.202935</td>\n",
       "      <td>0.150761</td>\n",
       "    </tr>\n",
       "  </tbody>\n",
       "</table>\n",
       "<p>5 rows × 21 columns</p>\n",
       "</div>"
      ],
      "text/plain": [
       "   Year         Artist                   Song Name        View       Like  \\\n",
       "0  2020          Drake                Toosie Slide  59212131.0  1370881.0   \n",
       "1  2020       Doja Cat     Say So (Official Video)  85600520.0  2206882.0   \n",
       "2  2020   Taylor Swift    The Man (Official Video)  37774922.0  1297372.0   \n",
       "3  2020  Billie Eilish      No Time To Die (Audio)  66616605.0  1964947.0   \n",
       "4  2020   Selena Gomez  Boyfriend (Official Video)  27853456.0  1107681.0   \n",
       "\n",
       "    Dislike  danceability  energy  speechiness  acousticness  ...  liveness  \\\n",
       "0   49691.0         0.787   0.673        0.158         0.256  ...     0.090   \n",
       "1   36219.0         0.777   0.658        0.054         0.077  ...     0.090   \n",
       "2  142309.0         0.777   0.658        0.054         0.077  ...     0.090   \n",
       "3   66981.0         0.380   0.219        0.036         0.917  ...     0.083   \n",
       "4   59571.0         0.811   0.512        0.170         0.218  ...     0.077   \n",
       "\n",
       "   valence  tempo            type duration_ms  popularity  neg_score  \\\n",
       "0    0.786  111.0  audio_features    237893.0          97   0.058761   \n",
       "1    0.633  110.0  audio_features    190360.0          83   0.032440   \n",
       "2    0.633  110.0  audio_features    190360.0          83   0.095333   \n",
       "3    0.052   74.0  audio_features    242265.0          89   0.115447   \n",
       "4    0.346   92.0  audio_features    161188.0          84   0.072435   \n",
       "\n",
       "   neu_score  pos_score  cou_score  \n",
       "0   0.769391   0.171870   0.140309  \n",
       "1   0.659060   0.308480   0.257262  \n",
       "2   0.653111   0.229333   0.103829  \n",
       "3   0.537021   0.347511   0.262334  \n",
       "4   0.702913   0.202935   0.150761  \n",
       "\n",
       "[5 rows x 21 columns]"
      ]
     },
     "execution_count": 26,
     "metadata": {},
     "output_type": "execute_result"
    }
   ],
   "source": [
    "test.head()"
   ]
  },
  {
   "cell_type": "code",
   "execution_count": 27,
   "metadata": {},
   "outputs": [],
   "source": [
    "X_pred = test[['View', 'Dislike', 'danceability', 'energy', 'acousticness', 'instrumentalness', 'liveness', \n",
    "               'duration_ms', 'neg_score', 'pos_score', 'cou_score']]\n",
    "#X_pred = pd.get_dummies(X_pred,drop_first=True)"
   ]
  },
  {
   "cell_type": "code",
   "execution_count": 28,
   "metadata": {
    "scrolled": false
   },
   "outputs": [
    {
     "data": {
      "text/html": [
       "<div>\n",
       "<style scoped>\n",
       "    .dataframe tbody tr th:only-of-type {\n",
       "        vertical-align: middle;\n",
       "    }\n",
       "\n",
       "    .dataframe tbody tr th {\n",
       "        vertical-align: top;\n",
       "    }\n",
       "\n",
       "    .dataframe thead th {\n",
       "        text-align: right;\n",
       "    }\n",
       "</style>\n",
       "<table border=\"1\" class=\"dataframe\">\n",
       "  <thead>\n",
       "    <tr style=\"text-align: right;\">\n",
       "      <th></th>\n",
       "      <th>Year</th>\n",
       "      <th>Artist</th>\n",
       "      <th>Millions</th>\n",
       "    </tr>\n",
       "  </thead>\n",
       "  <tbody>\n",
       "    <tr>\n",
       "      <th>0</th>\n",
       "      <td>2020</td>\n",
       "      <td>Justin Bieber</td>\n",
       "      <td>165.846166</td>\n",
       "    </tr>\n",
       "    <tr>\n",
       "      <th>1</th>\n",
       "      <td>2020</td>\n",
       "      <td>Billie Eilish</td>\n",
       "      <td>151.075645</td>\n",
       "    </tr>\n",
       "    <tr>\n",
       "      <th>2</th>\n",
       "      <td>2020</td>\n",
       "      <td>P!nk</td>\n",
       "      <td>134.351510</td>\n",
       "    </tr>\n",
       "    <tr>\n",
       "      <th>3</th>\n",
       "      <td>2020</td>\n",
       "      <td>BTS</td>\n",
       "      <td>127.454208</td>\n",
       "    </tr>\n",
       "    <tr>\n",
       "      <th>4</th>\n",
       "      <td>2020</td>\n",
       "      <td>Harry Styles</td>\n",
       "      <td>126.826318</td>\n",
       "    </tr>\n",
       "    <tr>\n",
       "      <th>5</th>\n",
       "      <td>2020</td>\n",
       "      <td>Maroon 5</td>\n",
       "      <td>121.643854</td>\n",
       "    </tr>\n",
       "    <tr>\n",
       "      <th>6</th>\n",
       "      <td>2020</td>\n",
       "      <td>Eminem</td>\n",
       "      <td>121.528973</td>\n",
       "    </tr>\n",
       "    <tr>\n",
       "      <th>7</th>\n",
       "      <td>2020</td>\n",
       "      <td>Justin Timberlake</td>\n",
       "      <td>121.005760</td>\n",
       "    </tr>\n",
       "    <tr>\n",
       "      <th>8</th>\n",
       "      <td>2020</td>\n",
       "      <td>Demi Lovato</td>\n",
       "      <td>117.320462</td>\n",
       "    </tr>\n",
       "    <tr>\n",
       "      <th>9</th>\n",
       "      <td>2020</td>\n",
       "      <td>twenty one pilots</td>\n",
       "      <td>117.286024</td>\n",
       "    </tr>\n",
       "    <tr>\n",
       "      <th>10</th>\n",
       "      <td>2020</td>\n",
       "      <td>Sam Smith</td>\n",
       "      <td>114.219061</td>\n",
       "    </tr>\n",
       "    <tr>\n",
       "      <th>11</th>\n",
       "      <td>2020</td>\n",
       "      <td>Doja Cat</td>\n",
       "      <td>113.015763</td>\n",
       "    </tr>\n",
       "    <tr>\n",
       "      <th>12</th>\n",
       "      <td>2020</td>\n",
       "      <td>Halsey</td>\n",
       "      <td>112.055421</td>\n",
       "    </tr>\n",
       "    <tr>\n",
       "      <th>13</th>\n",
       "      <td>2020</td>\n",
       "      <td>Dua Lipa</td>\n",
       "      <td>109.907194</td>\n",
       "    </tr>\n",
       "    <tr>\n",
       "      <th>14</th>\n",
       "      <td>2020</td>\n",
       "      <td>Khalid</td>\n",
       "      <td>109.703453</td>\n",
       "    </tr>\n",
       "    <tr>\n",
       "      <th>15</th>\n",
       "      <td>2020</td>\n",
       "      <td>Katy Perry</td>\n",
       "      <td>109.255490</td>\n",
       "    </tr>\n",
       "    <tr>\n",
       "      <th>16</th>\n",
       "      <td>2020</td>\n",
       "      <td>Drake</td>\n",
       "      <td>106.978903</td>\n",
       "    </tr>\n",
       "    <tr>\n",
       "      <th>17</th>\n",
       "      <td>2020</td>\n",
       "      <td>Lady Gaga</td>\n",
       "      <td>105.420121</td>\n",
       "    </tr>\n",
       "    <tr>\n",
       "      <th>18</th>\n",
       "      <td>2020</td>\n",
       "      <td>Sub Urban</td>\n",
       "      <td>104.431905</td>\n",
       "    </tr>\n",
       "    <tr>\n",
       "      <th>19</th>\n",
       "      <td>2020</td>\n",
       "      <td>Imagine Dragons</td>\n",
       "      <td>104.302371</td>\n",
       "    </tr>\n",
       "    <tr>\n",
       "      <th>20</th>\n",
       "      <td>2020</td>\n",
       "      <td>Ed Sheeran</td>\n",
       "      <td>104.041705</td>\n",
       "    </tr>\n",
       "    <tr>\n",
       "      <th>21</th>\n",
       "      <td>2020</td>\n",
       "      <td>The Weeknd</td>\n",
       "      <td>103.355582</td>\n",
       "    </tr>\n",
       "    <tr>\n",
       "      <th>22</th>\n",
       "      <td>2020</td>\n",
       "      <td>Future</td>\n",
       "      <td>102.089389</td>\n",
       "    </tr>\n",
       "    <tr>\n",
       "      <th>23</th>\n",
       "      <td>2020</td>\n",
       "      <td>Taylor Swift</td>\n",
       "      <td>94.943495</td>\n",
       "    </tr>\n",
       "    <tr>\n",
       "      <th>24</th>\n",
       "      <td>2020</td>\n",
       "      <td>The Pussycat Dolls</td>\n",
       "      <td>94.763502</td>\n",
       "    </tr>\n",
       "    <tr>\n",
       "      <th>25</th>\n",
       "      <td>2020</td>\n",
       "      <td>Selena Gomez</td>\n",
       "      <td>90.771436</td>\n",
       "    </tr>\n",
       "    <tr>\n",
       "      <th>26</th>\n",
       "      <td>2020</td>\n",
       "      <td>Roddy Ricch</td>\n",
       "      <td>80.631080</td>\n",
       "    </tr>\n",
       "    <tr>\n",
       "      <th>27</th>\n",
       "      <td>2020</td>\n",
       "      <td>Ariana Grande</td>\n",
       "      <td>69.138415</td>\n",
       "    </tr>\n",
       "  </tbody>\n",
       "</table>\n",
       "</div>"
      ],
      "text/plain": [
       "    Year              Artist    Millions\n",
       "0   2020       Justin Bieber  165.846166\n",
       "1   2020       Billie Eilish  151.075645\n",
       "2   2020                P!nk  134.351510\n",
       "3   2020                BTS   127.454208\n",
       "4   2020        Harry Styles  126.826318\n",
       "5   2020            Maroon 5  121.643854\n",
       "6   2020              Eminem  121.528973\n",
       "7   2020   Justin Timberlake  121.005760\n",
       "8   2020         Demi Lovato  117.320462\n",
       "9   2020   twenty one pilots  117.286024\n",
       "10  2020           Sam Smith  114.219061\n",
       "11  2020            Doja Cat  113.015763\n",
       "12  2020              Halsey  112.055421\n",
       "13  2020            Dua Lipa  109.907194\n",
       "14  2020              Khalid  109.703453\n",
       "15  2020          Katy Perry  109.255490\n",
       "16  2020               Drake  106.978903\n",
       "17  2020           Lady Gaga  105.420121\n",
       "18  2020           Sub Urban  104.431905\n",
       "19  2020     Imagine Dragons  104.302371\n",
       "20  2020          Ed Sheeran  104.041705\n",
       "21  2020          The Weeknd  103.355582\n",
       "22  2020              Future  102.089389\n",
       "23  2020        Taylor Swift   94.943495\n",
       "24  2020  The Pussycat Dolls   94.763502\n",
       "25  2020        Selena Gomez   90.771436\n",
       "26  2020         Roddy Ricch   80.631080\n",
       "27  2020       Ariana Grande   69.138415"
      ]
     },
     "execution_count": 28,
     "metadata": {},
     "output_type": "execute_result"
    }
   ],
   "source": [
    "model.fit(X, y)  #fit the model\n",
    "pred = model.predict(X_pred) #make prediction on test set\n",
    "# assign the columns to test data \n",
    "test[\"Millions\"] = pred\n",
    "# sort the test data predictions by sale \n",
    "test = test.sort_values(by = 'Millions', ascending = False).reset_index(drop = True)\n",
    "# keep only year and artist, sale\n",
    "test = test[[\"Year\",\"Artist\", \"Millions\"]]\n",
    "test"
   ]
  },
  {
   "cell_type": "code",
   "execution_count": 29,
   "metadata": {},
   "outputs": [],
   "source": [
    "# save as a resulting csv file \n",
    "test.to_csv(\"test_results.csv\", index=False)"
   ]
  },
  {
   "cell_type": "code",
   "execution_count": 30,
   "metadata": {},
   "outputs": [],
   "source": [
    "#import matplotlib.pyplot as plt\n",
    "df = pd.concat([data,test], ignore_index=True)\n",
    "df = df[[\"Year\",\"Artist\", \"Millions\"]]\n",
    "df = df.drop_duplicates()"
   ]
  },
  {
   "cell_type": "code",
   "execution_count": 31,
   "metadata": {
    "scrolled": true
   },
   "outputs": [
    {
     "data": {
      "text/plain": [
       "<BarContainer object of 3 artists>"
      ]
     },
     "execution_count": 31,
     "metadata": {},
     "output_type": "execute_result"
    },
    {
     "data": {
      "image/png": "[encoded data removed]",
      "text/plain": [
       "<Figure size 432x288 with 1 Axes>"
      ]
     },
     "metadata": {
      "needs_background": "light"
     },
     "output_type": "display_data"
    }
   ],
   "source": [
    "# example plot of Ed Sheeran sale (because of the views counted in half of year 2020)\n",
    "df = df[df[\"Artist\"]==\"Ed Sheeran\"]\n",
    "plt.bar(df['Year'], df['Millions'])"
   ]
  }
 ],
 "metadata": {
  "kernelspec": {
   "display_name": "Python 3",
   "language": "python",
   "name": "python3"
  },
  "language_info": {
   "codemirror_mode": {
    "name": "ipython",
    "version": 3
   },
   "file_extension": ".py",
   "mimetype": "text/x-python",
   "name": "python",
   "nbconvert_exporter": "python",
   "pygments_lexer": "ipython3",
   "version": "3.7.4"
  }
 },
 "nbformat": 4,
 "nbformat_minor": 2
}
