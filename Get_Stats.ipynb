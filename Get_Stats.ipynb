{
 "cells": [
  {
   "cell_type": "code",
   "execution_count": 4,
   "metadata": {},
   "outputs": [],
   "source": [
    "import sys\n",
    "import urllib.request, urllib.response, urllib.error\n",
    "from bs4 import BeautifulSoup\n",
    "import re\n",
    "from apiclient.discovery import build\n",
    "from oauth2client.tools import argparser"
   ]
  },
  {
   "cell_type": "code",
   "execution_count": 5,
   "metadata": {},
   "outputs": [],
   "source": [
    "class SoupScrape:\n",
    "    \n",
    "    def GetStats(self, code):\n",
    "        \n",
    "        video_url = 'http://www.youtube.com/watch?v=' + code\n",
    "        startpage = urllib.request.urlopen(video_url)\n",
    "        soup = BeautifulSoup(startpage.read(), \"lxml\")\n",
    "        \n",
    "        # Get Number of Views\n",
    "        rawview_data = soup.find('div', {'class': 'watch-view-count'})\n",
    "        view_number = rawview_data.contents[0]\n",
    "        view_number = re.sub('[^0-9]', '', view_number)\n",
    "        \n",
    "        # Get Number of Likes and Dislikes\n",
    "        raw_like = soup.find('button', {'class': 'like-button-renderer-like-button'})\n",
    "        raw_dislike = soup.find('button', {'class': 'like-button-renderer-dislike-button'})\n",
    "        \n",
    "        # Likes\n",
    "        likes = raw_like.contents[0]\n",
    "        for data in likes:\n",
    "            num_of_likes = data\n",
    "\n",
    "        # Dislikes\n",
    "        dislikes = raw_dislike.contents[0]\n",
    "        for data in dislikes:\n",
    "            num_of_dislikes = data\n",
    "            \n",
    "        #video name\n",
    "        raw_name=soup.find('span', {'class': 'watch-title'})\n",
    "        video_name=raw_name.contents[0]\n",
    "        video_name=video_name.replace('\\n', '')\n",
    "        \n",
    "         # saving this data in dictionary \n",
    "        data = {'Video Name':video_name, 'Views':view_number, 'Likes':num_of_likes, 'Dislikes':num_of_dislikes} \n",
    "      \n",
    "        # returning the dictionary \n",
    "        return data "
   ]
  },
  {
   "cell_type": "code",
   "execution_count": 6,
   "metadata": {},
   "outputs": [],
   "source": [
    "DEVELOPER_KEY = \"\"\n",
    "YOUTUBE_API_SERVICE_NAME = \"youtube\"\n",
    "YOUTUBE_API_VERSION = \"v3\""
   ]
  },
  {
   "cell_type": "code",
   "execution_count": 10,
   "metadata": {},
   "outputs": [],
   "source": [
    "if __name__ == \"__main__\":\n",
    "   \n",
    "    stat_fetch = SoupScrape()\n",
    "    video_id = [\"5Wiio4KoGe8\",\"aJOTlE1K90k\",\"SlPhMPnQ58k\",\n",
    "               \"EBt_88nxG4c\",\"J1OsKJW51HY\",\"Z25aDKQ7Ojw\",\n",
    "               \"2Vv-BfVoq4g\",\"mj0XInqZMHY\",\"ryJgDL9jzKk\",\n",
    "               \"U9BwWKXjVaI\",\"S1gp0m4B5p8\",\"l0U7SxXHkPY\"]\n",
    "    stat_list = []\n",
    "    for code in video_id:\n",
    "        a = stat_fetch.GetStats(code)\n",
    "        stat_list.append(a)"
   ]
  },
  {
   "cell_type": "code",
   "execution_count": 11,
   "metadata": {},
   "outputs": [
    {
     "name": "stdout",
     "output_type": "stream",
     "text": [
      "[{'Video Name': '    Maroon 5 - What Lovers Do ft. SZA (Official Music Video)  ', 'Views': '505589804', 'Likes': '2,244,113', 'Dislikes': '79,392'}, {'Video Name': '    Maroon 5 - Girls Like You ft. Cardi B (Official Music Video)  ', 'Views': '2644803263', 'Likes': '16,261,110', 'Dislikes': '681,626'}, {'Video Name': '    Maroon 5 - Memories (Official Video)  ', 'Views': '470560436', 'Likes': '5,319,001', 'Dislikes': '116,557'}, {'Video Name': '    P!nk - Beautiful Trauma (Official Video)  ', 'Views': '140305082', 'Likes': '1,073,412', 'Dislikes': '57,139'}, {'Video Name': '    P!nk - Walk Me Home (Official Video)  ', 'Views': '97194819', 'Likes': '638,983', 'Dislikes': '21,664'}, {'Video Name': '    P!nk - Hurts 2B Human ft. Khalid  ', 'Views': '22458652', 'Likes': '410,298', 'Dislikes': '6,375'}, {'Video Name': '    Ed Sheeran - Perfect (Official Music Video)  ', 'Views': '2370534023', 'Likes': '12,482,026', 'Dislikes': '488,967'}, {'Video Name': '    Ed Sheeran - Beautiful People (feat. Khalid) [Official Video]  ', 'Views': '223697664', 'Likes': '2,154,258', 'Dislikes': '57,346'}, {'Video Name': '    Ed Sheeran - Put It All On Me (feat. Ella Mai) [Official Video]  ', 'Views': '27249617', 'Likes': '604,814', 'Dislikes': '9,961'}, {'Video Name': '    Drake - Nice For What  ', 'Views': '348338597', 'Likes': '2,351,727', 'Dislikes': '130,605'}, {'Video Name': '    Meek Mill - Going Bad feat. Drake (Official Video)  ', 'Views': '108966795', 'Likes': '1,219,273', 'Dislikes': '40,267'}, {'Video Name': '    Future - Life Is Good (Official Music Video) ft. Drake  ', 'Views': '374066907', 'Likes': '2,896,252', 'Dislikes': '136,616'}]\n"
     ]
    }
   ],
   "source": [
    "print(stat_list)"
   ]
  },
  {
   "cell_type": "code",
   "execution_count": 13,
   "metadata": {},
   "outputs": [],
   "source": [
    "import pandas as pd\n",
    "df=pd.DataFrame.from_dict(stat_list)\n"
   ]
  },
  {
   "cell_type": "code",
   "execution_count": 14,
   "metadata": {},
   "outputs": [
    {
     "name": "stdout",
     "output_type": "stream",
     "text": [
      "                                           Video Name       Views       Likes  \\\n",
      "0       Maroon 5 - What Lovers Do ft. SZA (Officia...   505589804   2,244,113   \n",
      "1       Maroon 5 - Girls Like You ft. Cardi B (Off...  2644803263  16,261,110   \n",
      "2              Maroon 5 - Memories (Official Video)     470560436   5,319,001   \n",
      "3          P!nk - Beautiful Trauma (Official Video)     140305082   1,073,412   \n",
      "4              P!nk - Walk Me Home (Official Video)      97194819     638,983   \n",
      "5                  P!nk - Hurts 2B Human ft. Khalid      22458652     410,298   \n",
      "6       Ed Sheeran - Perfect (Official Music Video)    2370534023  12,482,026   \n",
      "7       Ed Sheeran - Beautiful People (feat. Khali...   223697664   2,154,258   \n",
      "8       Ed Sheeran - Put It All On Me (feat. Ella ...    27249617     604,814   \n",
      "9                             Drake - Nice For What     348338597   2,351,727   \n",
      "10      Meek Mill - Going Bad feat. Drake (Officia...   108966795   1,219,273   \n",
      "11      Future - Life Is Good (Official Music Vide...   374066907   2,896,252   \n",
      "\n",
      "   Dislikes  \n",
      "0    79,392  \n",
      "1   681,626  \n",
      "2   116,557  \n",
      "3    57,139  \n",
      "4    21,664  \n",
      "5     6,375  \n",
      "6   488,967  \n",
      "7    57,346  \n",
      "8     9,961  \n",
      "9   130,605  \n",
      "10   40,267  \n",
      "11  136,616  \n"
     ]
    }
   ],
   "source": [
    "print(df)"
   ]
  },
  {
   "cell_type": "code",
   "execution_count": 15,
   "metadata": {},
   "outputs": [],
   "source": [
    "df.to_csv('VideoStat.csv', index=False)"
   ]
  },
  {
   "cell_type": "code",
   "execution_count": null,
   "metadata": {},
   "outputs": [],
   "source": []
  },
  {
   "cell_type": "code",
   "execution_count": null,
   "metadata": {},
   "outputs": [],
   "source": []
  }
 ],
 "metadata": {
  "kernelspec": {
   "display_name": "Python 3",
   "language": "python",
   "name": "python3"
  },
  "language_info": {
   "codemirror_mode": {
    "name": "ipython",
    "version": 3
   },
   "file_extension": ".py",
   "mimetype": "text/x-python",
   "name": "python",
   "nbconvert_exporter": "python",
   "pygments_lexer": "ipython3",
   "version": "3.7.6"
  }
 },
 "nbformat": 4,
 "nbformat_minor": 4
}
