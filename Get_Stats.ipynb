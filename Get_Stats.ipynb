{
  "nbformat": 4,
  "nbformat_minor": 0,
  "metadata": {
    "kernelspec": {
      "display_name": "Python 3",
      "language": "python",
      "name": "python3"
    },
    "language_info": {
      "codemirror_mode": {
        "name": "ipython",
        "version": 3
      },
      "file_extension": ".py",
      "mimetype": "text/x-python",
      "name": "python",
      "nbconvert_exporter": "python",
      "pygments_lexer": "ipython3",
      "version": "3.7.6"
    },
    "colab": {
      "name": "Get_Stats.ipynb",
      "provenance": [],
      "include_colab_link": true
    }
  },
  "cells": [
    {
      "cell_type": "markdown",
      "metadata": {
        "id": "view-in-github",
        "colab_type": "text"
      },
      "source": [
        "<a href=\"https://colab.research.google.com/github/VDai1999/ConcertTicketSale/blob/main/Get_Stats.ipynb\" target=\"_parent\"><img src=\"https://colab.research.google.com/assets/colab-badge.svg\" alt=\"Open In Colab\"/></a>"
      ]
    },
    {
      "cell_type": "code",
      "metadata": {
        "id": "S9ljnuBSj6ap"
      },
      "source": [
        "#Import packages\n",
        "import sys\n",
        "import urllib.request, urllib.response, urllib.error\n",
        "from bs4 import BeautifulSoup\n",
        "import re\n",
        "from apiclient.discovery import build\n",
        "from oauth2client.tools import argparser"
      ],
      "execution_count": null,
      "outputs": []
    },
    {
      "cell_type": "code",
      "metadata": {
        "id": "vvuzf1nBj6aq"
      },
      "source": [
        "class SoupScrape:\n",
        "  '''\n",
        "  A class that get the number of views, number of likes, and number of dislikes\n",
        "  of YouTube music videos\n",
        "  '''\n",
        "    \n",
        "    def GetStats(self, code):\n",
        "        \n",
        "        video_url = 'http://www.youtube.com/watch?v=' + code\n",
        "        startpage = urllib.request.urlopen(video_url)\n",
        "        soup = BeautifulSoup(startpage.read(), \"lxml\")\n",
        "        \n",
        "        # Get Number of Views\n",
        "        rawview_data = soup.find('div', {'class': 'watch-view-count'})\n",
        "        view_number = rawview_data.contents[0]\n",
        "        view_number = re.sub('[^0-9]', '', view_number)\n",
        "        \n",
        "        # Get Number of Likes and Dislikes\n",
        "        raw_like = soup.find('button', {'class': 'like-button-renderer-like-button'})\n",
        "        raw_dislike = soup.find('button', {'class': 'like-button-renderer-dislike-button'})\n",
        "        \n",
        "        # Likes\n",
        "        likes = raw_like.contents[0]\n",
        "        for data in likes:\n",
        "            num_of_likes = data\n",
        "\n",
        "        # Dislikes\n",
        "        dislikes = raw_dislike.contents[0]\n",
        "        for data in dislikes:\n",
        "            num_of_dislikes = data\n",
        "            \n",
        "        #video name\n",
        "        raw_name=soup.find('span', {'class': 'watch-title'})\n",
        "        video_name=raw_name.contents[0]\n",
        "        video_name=video_name.replace('\\n', '')\n",
        "        \n",
        "         # saving this data in dictionary \n",
        "        data = {'Video Name':video_name, 'Views':view_number, 'Likes':num_of_likes, 'Dislikes':num_of_dislikes} \n",
        "      \n",
        "        # returning the dictionary \n",
        "        return data "
      ],
      "execution_count": null,
      "outputs": []
    },
    {
      "cell_type": "code",
      "metadata": {
        "id": "n5yG1yW6j6ar"
      },
      "source": [
        "DEVELOPER_KEY = \"\"\n",
        "YOUTUBE_API_SERVICE_NAME = \"youtube\"\n",
        "YOUTUBE_API_VERSION = \"v3\""
      ],
      "execution_count": null,
      "outputs": []
    },
    {
      "cell_type": "code",
      "metadata": {
        "id": "nvGRGK-_j6as"
      },
      "source": [
        "if __name__ == \"__main__\":\n",
        "   \n",
        "    stat_fetch = SoupScrape()\n",
        "    video_id = []\n",
        "    stat_list = []\n",
        "    for code in video_id:\n",
        "        a = stat_fetch.GetStats(code)\n",
        "        stat_list.append(a)"
      ],
      "execution_count": null,
      "outputs": []
    },
    {
      "cell_type": "code",
      "metadata": {
        "id": "1dIv7DY3j6as"
      },
      "source": [
        "print(stat_list)"
      ],
      "execution_count": null,
      "outputs": []
    },
    {
      "cell_type": "code",
      "metadata": {
        "id": "zgRG8JD_j6at"
      },
      "source": [
        "import pandas as pd\n",
        "df=pd.DataFrame.from_dict(stat_list)"
      ],
      "execution_count": null,
      "outputs": []
    },
    {
      "cell_type": "code",
      "metadata": {
        "id": "piN0Mo1Wj6au"
      },
      "source": [
        "print(df)"
      ],
      "execution_count": null,
      "outputs": []
    },
    {
      "cell_type": "code",
      "metadata": {
        "id": "p15M3lIij6av"
      },
      "source": [
        "#Save the data to csv file\n",
        "df.to_csv('VideoStat.csv', index=False)"
      ],
      "execution_count": null,
      "outputs": []
    }
  ]
}