{
  "nbformat": 4,
  "nbformat_minor": 0,
  "metadata": {
    "kernelspec": {
      "display_name": "Python 3",
      "language": "python",
      "name": "python3"
    },
    "language_info": {
      "codemirror_mode": {
        "name": "ipython",
        "version": 3
      },
      "file_extension": ".py",
      "mimetype": "text/x-python",
      "name": "python",
      "nbconvert_exporter": "python",
      "pygments_lexer": "ipython3",
      "version": "3.7.4"
    },
    "colab": {
      "name": "YouTube Comments_50_Loop.ipynb",
      "provenance": [],
      "include_colab_link": true
    }
  },
  "cells": [
    {
      "cell_type": "markdown",
      "metadata": {
        "id": "view-in-github",
        "colab_type": "text"
      },
      "source": [
        "<a href=\"https://colab.research.google.com/github/VDai1999/ConcertTicketSale/blob/main/YouTube_Comments_50_Loop.ipynb\" target=\"_parent\"><img src=\"https://colab.research.google.com/assets/colab-badge.svg\" alt=\"Open In Colab\"/></a>"
      ]
    },
    {
      "cell_type": "code",
      "metadata": {
        "id": "iJCMGNgggpNF"
      },
      "source": [
        "# import libaries\n",
        "from apiclient.discovery import build\n",
        "import re"
      ],
      "execution_count": null,
      "outputs": []
    },
    {
      "cell_type": "code",
      "metadata": {
        "id": "sF_IoHExgpNH"
      },
      "source": [
        "# insert your API key\n",
        "api_key = \"\""
      ],
      "execution_count": null,
      "outputs": []
    },
    {
      "cell_type": "code",
      "metadata": {
        "id": "tyYm06BbgpNJ"
      },
      "source": [
        "youtube = build('youtube', 'v3', developerKey=api_key)"
      ],
      "execution_count": null,
      "outputs": []
    },
    {
      "cell_type": "code",
      "metadata": {
        "id": "40GcTurPgpNK"
      },
      "source": [
        "def get_comment_threads(youtube, video_id):\n",
        "  results = youtube.commentThreads().list(\n",
        "      part=\"snippet\",\n",
        "      maxResults=50,\n",
        "      videoId=video_id,\n",
        "      textFormat=\"plainText\"\n",
        "      ).execute()\n",
        "      \n",
        "  return results[\"items\"] "
      ],
      "execution_count": null,
      "outputs": []
    },
    {
      "cell_type": "code",
      "metadata": {
        "id": "WA7pPyvcgpNK"
      },
      "source": [
        "# change this to your assigned list of video IDs \n",
        "\n",
        "video_id = []\n",
        "\n",
        "# example: video_id = ['en2D_5TzXCA','o9iQ8lIfyEs','PNu_-deVemE','oj0YjGKqauw','wAeV90a5l-E','0KSOMA3QBU0',\n",
        "#           'dPI-mRFEIH0','hdw1uKiTI5c']"
      ],
      "execution_count": null,
      "outputs": []
    },
    {
      "cell_type": "code",
      "metadata": {
        "id": "368j80MCgpNL"
      },
      "source": [
        "# open the text file\n",
        "# change name of the text file if you wat\n",
        "for video in video_id:\n",
        "    file = str(video)+\".txt\"\n",
        "    fh=open(file, \"w\") \n",
        "    try_pink = get_comment_threads(youtube, video)\n",
        "\n",
        "    for item in try_pink:\n",
        "        comment = item[\"snippet\"][\"topLevelComment\"]\n",
        "        text = comment[\"snippet\"][\"textDisplay\"]\n",
        "        #get the comment\n",
        "        text = text.encode(\"ascii\", errors=\"ignore\").decode()\n",
        "        text = re.sub(' +', ' ', text)\n",
        "        text = re.sub('\\n', ' ', text)\n",
        "        text = text.lstrip()\n",
        "        if not text.strip(): continue  # skip the empty line\n",
        "                #write it in the txt file\n",
        "        fh.write(text+\"\\n\") \n",
        "\n",
        "\n",
        "    fh.close() #to change file access modes "
      ],
      "execution_count": null,
      "outputs": []
    }
  ]
}