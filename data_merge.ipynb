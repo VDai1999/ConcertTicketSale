{
  "nbformat": 4,
  "nbformat_minor": 0,
  "metadata": {
    "kernelspec": {
      "display_name": "Python 3",
      "language": "python",
      "name": "python3"
    },
    "language_info": {
      "codemirror_mode": {
        "name": "ipython",
        "version": 3
      },
      "file_extension": ".py",
      "mimetype": "text/x-python",
      "name": "python",
      "nbconvert_exporter": "python",
      "pygments_lexer": "ipython3",
      "version": "3.7.6"
    },
    "colab": {
      "name": "data-merge.ipynb",
      "provenance": [],
      "include_colab_link": true
    }
  },
  "cells": [
    {
      "cell_type": "markdown",
      "metadata": {
        "id": "view-in-github",
        "colab_type": "text"
      },
      "source": [
        "<a href=\"https://colab.research.google.com/github/VDai1999/ConcertTicketSale/blob/main/data_merge.ipynb\" target=\"_parent\"><img src=\"https://colab.research.google.com/assets/colab-badge.svg\" alt=\"Open In Colab\"/></a>"
      ]
    },
    {
      "cell_type": "code",
      "metadata": {
        "id": "c69-rdooiU1h"
      },
      "source": [
        "# Import libraries\n",
        "import pandas as pd"
      ],
      "execution_count": null,
      "outputs": []
    },
    {
      "cell_type": "code",
      "metadata": {
        "id": "1aGbo9aQiU1i"
      },
      "source": [
        "# load data\n",
        "data = pd.read_csv(\"Data_withSentiments.csv\")\n",
        "data.columns = data.columns.str.strip()\n",
        "cols = [\"View\",\"Like\",\"Dislike\",\"duration_ms\"]\n",
        "data[cols]= data[cols].replace(\",\",\"\", regex=True).astype(float)\n",
        "data.columns = ['Year' if x=='Concert year (2018, 2019 or 2020) (song released before 2018 -> 2018)' else x for x in data.columns]"
      ],
      "execution_count": null,
      "outputs": []
    },
    {
      "cell_type": "code",
      "metadata": {
        "id": "Jd7x4Jd2iU1j"
      },
      "source": [
        "data.head()"
      ],
      "execution_count": null,
      "outputs": []
    },
    {
      "cell_type": "code",
      "metadata": {
        "id": "YeJVM2pYiU1k"
      },
      "source": [
        "X = data.loc[:,'Year':'cou_score']"
      ],
      "execution_count": null,
      "outputs": []
    },
    {
      "cell_type": "code",
      "metadata": {
        "id": "KIKKo5VriU1l"
      },
      "source": [
        "X.shape"
      ],
      "execution_count": null,
      "outputs": []
    },
    {
      "cell_type": "code",
      "metadata": {
        "id": "Rg-ITipFiU1l"
      },
      "source": [
        "##2018 sales data\n",
        "data = pd.read_csv('2018YearEndTop100WorldwideTours_697.csv',header=1)\n",
        "data.head()\n",
        "df=data[['Millions','Artist']]\n",
        "df['Millions']=pd.to_numeric(df['Millions'],errors='coerce')"
      ],
      "execution_count": null,
      "outputs": []
    },
    {
      "cell_type": "code",
      "metadata": {
        "id": "gIutdnMXiU1m"
      },
      "source": [
        "#Add year column\n",
        "s=pd.Series([2018])\n",
        "a=s.repeat(len(df))\n",
        "a= a.reset_index(drop=True)\n",
        "df['Year']=a\n",
        "df.head()"
      ],
      "execution_count": null,
      "outputs": []
    },
    {
      "cell_type": "code",
      "metadata": {
        "id": "o2Y325UDiU1n"
      },
      "source": [
        "#Change some variables to match the other data\n",
        "df['Artist'][15]='Gun N Roses'\n",
        "df['Artist'][3]='P!nk'"
      ],
      "execution_count": null,
      "outputs": []
    },
    {
      "cell_type": "code",
      "metadata": {
        "id": "63Vlb5WziU1o"
      },
      "source": [
        "len(df)"
      ],
      "execution_count": null,
      "outputs": []
    },
    {
      "cell_type": "code",
      "metadata": {
        "id": "HEP52fpziU1o"
      },
      "source": [
        "#Get valid data with target - DONT NEED TO RUN UNLESS dat_.csv doesn't work!!\n",
        "#dat=pd.DataFrame(valid['Artist'].unique())\n",
        "#dat.to_csv('dat.csv', index = False)"
      ],
      "execution_count": null,
      "outputs": []
    },
    {
      "cell_type": "code",
      "metadata": {
        "id": "Zffr36t1iU1p"
      },
      "source": [
        "dat = pd.read_csv('dat_.csv',header=0)\n",
        "dat.columns=['Artist','Millions']\n",
        "dat['Millions']=pd.to_numeric(dat['Millions'],errors='coerce')\n",
        "s=pd.Series([2019])\n",
        "a=s.repeat(len(dat))\n",
        "a= a.reset_index(drop=True)\n",
        "dat['Year']=a\n",
        "dat.head()"
      ],
      "execution_count": null,
      "outputs": []
    },
    {
      "cell_type": "code",
      "metadata": {
        "id": "DZzpb3PhiU1p"
      },
      "source": [
        "#Split data set by year\n",
        "train=X[X['Year']==2018]\n",
        "valid=X[X['Year']==2019]\n",
        "test=X[X['Year']==2020]"
      ],
      "execution_count": null,
      "outputs": []
    },
    {
      "cell_type": "code",
      "metadata": {
        "id": "i9a0SswBiU1q"
      },
      "source": [
        "#Get train data with target \n",
        "train=pd.merge(train,df,on=['Artist','Year'],how='left')"
      ],
      "execution_count": null,
      "outputs": []
    },
    {
      "cell_type": "code",
      "metadata": {
        "id": "kfE7pJ1fiU1q"
      },
      "source": [
        "#train.dtypes - check types of data\n",
        "train[train['Millions'].isna()]"
      ],
      "execution_count": null,
      "outputs": []
    },
    {
      "cell_type": "code",
      "metadata": {
        "id": "DAVT-crPiU1q"
      },
      "source": [
        "valid=pd.merge(valid,dat,on=['Artist','Year'],how='left')"
      ],
      "execution_count": null,
      "outputs": []
    },
    {
      "cell_type": "code",
      "metadata": {
        "id": "VvTvXqDziU1r"
      },
      "source": [
        "valid[valid['Millions'].isna()]#-check to see if the merge is successful"
      ],
      "execution_count": null,
      "outputs": []
    },
    {
      "cell_type": "code",
      "metadata": {
        "id": "lebYc2ZUiU1r"
      },
      "source": [
        "#Append train and valid data sets\n",
        "train_valid = train.append(valid)\n",
        "train_valid.tail()"
      ],
      "execution_count": null,
      "outputs": []
    },
    {
      "cell_type": "code",
      "metadata": {
        "id": "uRn6hOtNiU1s"
      },
      "source": [
        "#Data prep for sentimental analysis\n",
        "train_x = train.loc[:,'View':'cou_score']\n",
        "train_y=train.loc[:,'Millions']\n",
        "valid_x = valid.loc[:,'View':'cou_score']\n",
        "valid_y=valid.loc[:,'Millions']\n",
        "test_x = test.loc[:,'View':'cou_score']\n",
        "train_valid_x= train_valid.loc[:,'View':'cou_score']\n",
        "train_valid_y=train_valid.loc[:,'Millions']"
      ],
      "execution_count": null,
      "outputs": []
    },
    {
      "cell_type": "code",
      "metadata": {
        "id": "qOVVC8RiiU1s"
      },
      "source": [
        "#Generate dummy variables in both test and train datasets\n",
        "train_x= pd.get_dummies(train_x,drop_first=True)\n",
        "valid_x= pd.get_dummies(valid_x,drop_first=True)\n",
        "test_x=pd.get_dummies(test_x,drop_first=True)\n",
        "train_valid_x=pd.get_dummies(train_valid_x,drop_first=True)"
      ],
      "execution_count": null,
      "outputs": []
    },
    {
      "cell_type": "code",
      "metadata": {
        "id": "LJzKhZ0KiU1t"
      },
      "source": [
        "#Save data to csv file\n",
        "train.to_csv('train.csv', index = False)\n",
        "valid.to_csv('valid.csv', index = False)\n",
        "test.to_csv('test.csv', index = False)\n",
        "train_valid.to_csv('train_valid.csv', index = False)\n",
        "\n",
        "train_x.to_csv('train_x.csv', index = False)\n",
        "valid_x.to_csv('valid_x.csv', index = False)\n",
        "test_x.to_csv('test_x.csv', index = False)\n",
        "train_valid_x.to_csv('train_valid_x.csv', index = False)\n",
        "\n",
        "train_y.to_csv('train_y.csv', index = False)\n",
        "valid_y.to_csv('valid_y.csv', index = False)\n",
        "train_valid_y.to_csv('train_valid_y.csv', index = False)"
      ],
      "execution_count": null,
      "outputs": []
    }
  ]
}