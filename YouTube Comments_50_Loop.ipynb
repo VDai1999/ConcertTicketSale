{
 "cells": [
  {
   "cell_type": "code",
   "execution_count": 3,
   "metadata": {},
   "outputs": [],
   "source": [
    "from apiclient.discovery import build"
   ]
  },
  {
   "cell_type": "code",
   "execution_count": 4,
   "metadata": {},
   "outputs": [],
   "source": [
    "# insert your API key\n",
    "api_key = \"\""
   ]
  },
  {
   "cell_type": "code",
   "execution_count": 5,
   "metadata": {},
   "outputs": [],
   "source": [
    "youtube = build('youtube', 'v3', developerKey=api_key)"
   ]
  },
  {
   "cell_type": "code",
   "execution_count": 6,
   "metadata": {},
   "outputs": [],
   "source": [
    "def get_comment_threads(youtube, video_id):\n",
    "    results = youtube.commentThreads().list(\n",
    "        part=\"snippet\",\n",
    "        maxResults=50,\n",
    "        videoId=video_id,\n",
    "        textFormat=\"plainText\"\n",
    "    ).execute()\n",
    "      \n",
    "    return results[\"items\"]\n",
    "    "
   ]
  },
  {
   "cell_type": "code",
   "execution_count": 18,
   "metadata": {},
   "outputs": [],
   "source": [
    "# change this to your assigned list of video IDs \n",
    "\n",
    "video_id = []\n",
    "\n",
    "# example: video_id = ['en2D_5TzXCA','o9iQ8lIfyEs','PNu_-deVemE','oj0YjGKqauw','wAeV90a5l-E','0KSOMA3QBU0',\n",
    "#           'dPI-mRFEIH0','hdw1uKiTI5c']\n"
   ]
  },
  {
   "cell_type": "code",
   "execution_count": 19,
   "metadata": {},
   "outputs": [],
   "source": [
    "import re\n",
    "\n",
    "# open the text file\n",
    "# change name of the text file if you wat\n",
    "for video in video_id:\n",
    "    file = str(video)+\".txt\"\n",
    "    fh=open(file, \"w\") \n",
    "    try_pink = get_comment_threads(youtube, video)\n",
    "\n",
    "    for item in try_pink:\n",
    "        comment = item[\"snippet\"][\"topLevelComment\"]\n",
    "        text = comment[\"snippet\"][\"textDisplay\"]\n",
    "        #get the comment\n",
    "        text = text.encode(\"ascii\", errors=\"ignore\").decode()\n",
    "        text = re.sub(' +', ' ', text)\n",
    "        text = re.sub('\\n', ' ', text)\n",
    "        text = text.lstrip()\n",
    "        if not text.strip(): continue  # skip the empty line\n",
    "                #write it in the txt file\n",
    "        fh.write(text+\"\\n\") \n",
    "\n",
    "\n",
    "    fh.close() #to change file access modes "
   ]
  },
  {
   "cell_type": "code",
   "execution_count": null,
   "metadata": {},
   "outputs": [],
   "source": []
  }
 ],
 "metadata": {
  "kernelspec": {
   "display_name": "Python 3",
   "language": "python",
   "name": "python3"
  },
  "language_info": {
   "codemirror_mode": {
    "name": "ipython",
    "version": 3
   },
   "file_extension": ".py",
   "mimetype": "text/x-python",
   "name": "python",
   "nbconvert_exporter": "python",
   "pygments_lexer": "ipython3",
   "version": "3.7.4"
  }
 },
 "nbformat": 4,
 "nbformat_minor": 4
}
