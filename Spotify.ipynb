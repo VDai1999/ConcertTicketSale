{
 "cells": [
  {
   "cell_type": "code",
   "execution_count": 1,
   "metadata": {},
   "outputs": [],
   "source": [
    "import spotipy\n",
    "from spotipy.oauth2 import SpotifyClientCredentials #To access authorised Spotify data\n",
    "import csv\n",
    "import pandas as pd"
   ]
  },
  {
   "cell_type": "code",
   "execution_count": 2,
   "metadata": {},
   "outputs": [],
   "source": [
    "client_id = \"2039381fcda54f7690fdbb96819319f7\"\n",
    "client_secret = \"9355c0e4535a4b709ef77dccb6aa7781\""
   ]
  },
  {
   "cell_type": "code",
   "execution_count": 3,
   "metadata": {},
   "outputs": [],
   "source": [
    "client_credentials_manager = SpotifyClientCredentials(client_id=client_id, client_secret=client_secret)\n",
    "sp = spotipy.Spotify(client_credentials_manager=client_credentials_manager) #spotify object to access API"
   ]
  },
  {
   "cell_type": "code",
   "execution_count": 4,
   "metadata": {},
   "outputs": [],
   "source": [
    "def song_features(result):\n",
    "    songFeature = {}\n",
    "    track = result['tracks']['items'][0]['uri']\n",
    "    features = sp.audio_features(track)\n",
    "    cols = ['danceability', 'energy', 'speechiness', 'acousticness', 'instrumentalness', \n",
    "            'liveness', 'valence', 'tempo', 'type', 'duration_ms']\n",
    "    \n",
    "    songFeature['artist'] = result['tracks']['items'][0]['artists'][0]['name']\n",
    "    songFeature['song'] = result['tracks']['items'][0]['name']\n",
    "    \n",
    "    for col in cols:\n",
    "        songFeature[col] = features[0][col]\n",
    "        \n",
    "    pop = sp.track(track)\n",
    "    songFeature['popularity'] = pop['popularity']\n",
    "    \n",
    "    return songFeature"
   ]
  },
  {
   "cell_type": "code",
   "execution_count": 88,
   "metadata": {},
   "outputs": [],
   "source": [
    "#ytStat = pd.read_csv('YoutubeStat_Dai.csv')\n",
    "df = pd.read_csv('Book3.csv')"
   ]
  },
  {
   "cell_type": "code",
   "execution_count": 89,
   "metadata": {},
   "outputs": [
    {
     "data": {
      "text/html": [
       "<div>\n",
       "<style scoped>\n",
       "    .dataframe tbody tr th:only-of-type {\n",
       "        vertical-align: middle;\n",
       "    }\n",
       "\n",
       "    .dataframe tbody tr th {\n",
       "        vertical-align: top;\n",
       "    }\n",
       "\n",
       "    .dataframe thead th {\n",
       "        text-align: right;\n",
       "    }\n",
       "</style>\n",
       "<table border=\"1\" class=\"dataframe\">\n",
       "  <thead>\n",
       "    <tr style=\"text-align: right;\">\n",
       "      <th></th>\n",
       "      <th>Video_Id</th>\n",
       "      <th>Artist</th>\n",
       "      <th>Song</th>\n",
       "    </tr>\n",
       "  </thead>\n",
       "  <tbody>\n",
       "    <tr>\n",
       "      <th>0</th>\n",
       "      <td>lG4HICGeQoo</td>\n",
       "      <td>Drake</td>\n",
       "      <td>Come And See Me</td>\n",
       "    </tr>\n",
       "    <tr>\n",
       "      <th>1</th>\n",
       "      <td>LEphhve_ILQ</td>\n",
       "      <td>Drake</td>\n",
       "      <td>I Get Lonely</td>\n",
       "    </tr>\n",
       "    <tr>\n",
       "      <th>2</th>\n",
       "      <td>0Y1iiXSKEn0&amp;bpctr=1588571171</td>\n",
       "      <td>Drake</td>\n",
       "      <td>Dreams Money Can Buy</td>\n",
       "    </tr>\n",
       "  </tbody>\n",
       "</table>\n",
       "</div>"
      ],
      "text/plain": [
       "                       Video_Id Artist                  Song\n",
       "0                   lG4HICGeQoo  Drake       Come And See Me\n",
       "1                   LEphhve_ILQ  Drake         I Get Lonely \n",
       "2  0Y1iiXSKEn0&bpctr=1588571171  Drake  Dreams Money Can Buy"
      ]
     },
     "execution_count": 89,
     "metadata": {},
     "output_type": "execute_result"
    }
   ],
   "source": [
    "#ytStat.head()\n",
    "df.head()"
   ]
  },
  {
   "cell_type": "code",
   "execution_count": 90,
   "metadata": {},
   "outputs": [
    {
     "data": {
      "text/plain": [
       "3"
      ]
     },
     "execution_count": 90,
     "metadata": {},
     "output_type": "execute_result"
    }
   ],
   "source": [
    "len(df)"
   ]
  },
  {
   "cell_type": "code",
   "execution_count": 91,
   "metadata": {},
   "outputs": [],
   "source": [
    "df['Song'] = df.Song.str.replace(r\"\\(.*\\)\",\"\").str.replace(r\"\\[.*\\]\",\"\")"
   ]
  },
  {
   "cell_type": "code",
   "execution_count": 92,
   "metadata": {},
   "outputs": [
    {
     "data": {
      "text/html": [
       "<div>\n",
       "<style scoped>\n",
       "    .dataframe tbody tr th:only-of-type {\n",
       "        vertical-align: middle;\n",
       "    }\n",
       "\n",
       "    .dataframe tbody tr th {\n",
       "        vertical-align: top;\n",
       "    }\n",
       "\n",
       "    .dataframe thead th {\n",
       "        text-align: right;\n",
       "    }\n",
       "</style>\n",
       "<table border=\"1\" class=\"dataframe\">\n",
       "  <thead>\n",
       "    <tr style=\"text-align: right;\">\n",
       "      <th></th>\n",
       "      <th>Video_Id</th>\n",
       "      <th>Artist</th>\n",
       "      <th>Song</th>\n",
       "    </tr>\n",
       "  </thead>\n",
       "  <tbody>\n",
       "    <tr>\n",
       "      <th>0</th>\n",
       "      <td>lG4HICGeQoo</td>\n",
       "      <td>Drake</td>\n",
       "      <td>Come And See Me</td>\n",
       "    </tr>\n",
       "    <tr>\n",
       "      <th>1</th>\n",
       "      <td>LEphhve_ILQ</td>\n",
       "      <td>Drake</td>\n",
       "      <td>I Get Lonely</td>\n",
       "    </tr>\n",
       "    <tr>\n",
       "      <th>2</th>\n",
       "      <td>0Y1iiXSKEn0&amp;bpctr=1588571171</td>\n",
       "      <td>Drake</td>\n",
       "      <td>Dreams Money Can Buy</td>\n",
       "    </tr>\n",
       "  </tbody>\n",
       "</table>\n",
       "</div>"
      ],
      "text/plain": [
       "                       Video_Id Artist                  Song\n",
       "0                   lG4HICGeQoo  Drake       Come And See Me\n",
       "1                   LEphhve_ILQ  Drake         I Get Lonely \n",
       "2  0Y1iiXSKEn0&bpctr=1588571171  Drake  Dreams Money Can Buy"
      ]
     },
     "execution_count": 92,
     "metadata": {},
     "output_type": "execute_result"
    }
   ],
   "source": [
    "df.head(9)"
   ]
  },
  {
   "cell_type": "code",
   "execution_count": 93,
   "metadata": {},
   "outputs": [],
   "source": [
    "def main():\n",
    "    stop = False\n",
    "    listSongFeature = []\n",
    "    \n",
    "    \n",
    "    for i in range (len(df)):\n",
    "        artist = df['Artist'][i]\n",
    "        song = df['Song'][i].rstrip()\n",
    "        result = sp.search(q=artist+ \" \" + song, limit=1)\n",
    "        sf = song_features(result) \n",
    "        listSongFeature.append(sf)\n",
    "        \n",
    "    \n",
    "    \n",
    "    \n",
    "   \n",
    "    csv_columns = ['artist', 'song', 'danceability', 'energy', 'speechiness', 'acousticness', 'instrumentalness', \n",
    "                   'liveness', 'valence', 'tempo', 'type', 'duration_ms', 'popularity']\n",
    "    csv_file = \"features.csv\"\n",
    "    \n",
    "    try:\n",
    "        with open(csv_file, 'w') as csvfile:\n",
    "            writer = csv.writer(csvfile)\n",
    "            writer.writerow(csv_columns)\n",
    "            \n",
    "            for lsf in listSongFeature:\n",
    "                temp = list()\n",
    "                for key in lsf.keys():\n",
    "                    temp.append(lsf[key])\n",
    "                writer.writerow(temp)\n",
    "            \n",
    "    except IOError:\n",
    "        print(\"I/O error\")\n",
    "     "
   ]
  },
  {
   "cell_type": "code",
   "execution_count": 94,
   "metadata": {},
   "outputs": [],
   "source": [
    "if __name__ == '__main__':\n",
    "    main()"
   ]
  }
 ],
 "metadata": {
  "kernelspec": {
   "display_name": "Python 3",
   "language": "python",
   "name": "python3"
  },
  "language_info": {
   "codemirror_mode": {
    "name": "ipython",
    "version": 3
   },
   "file_extension": ".py",
   "mimetype": "text/x-python",
   "name": "python",
   "nbconvert_exporter": "python",
   "pygments_lexer": "ipython3",
   "version": "3.7.6"
  }
 },
 "nbformat": 4,
 "nbformat_minor": 4
}
