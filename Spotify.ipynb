{
  "nbformat": 4,
  "nbformat_minor": 0,
  "metadata": {
    "kernelspec": {
      "display_name": "Python 3",
      "language": "python",
      "name": "python3"
    },
    "language_info": {
      "codemirror_mode": {
        "name": "ipython",
        "version": 3
      },
      "file_extension": ".py",
      "mimetype": "text/x-python",
      "name": "python",
      "nbconvert_exporter": "python",
      "pygments_lexer": "ipython3",
      "version": "3.7.6"
    },
    "colab": {
      "name": "Spotify.ipynb",
      "provenance": [],
      "collapsed_sections": [],
      "include_colab_link": true
    }
  },
  "cells": [
    {
      "cell_type": "markdown",
      "metadata": {
        "id": "view-in-github",
        "colab_type": "text"
      },
      "source": [
        "<a href=\"https://colab.research.google.com/github/VDai1999/ConcertTicketSale/blob/main/Spotify.ipynb\" target=\"_parent\"><img src=\"https://colab.research.google.com/assets/colab-badge.svg\" alt=\"Open In Colab\"/></a>"
      ]
    },
    {
      "cell_type": "code",
      "metadata": {
        "id": "Ka4p0Sl-lqmM"
      },
      "source": [
        "#Import packages\n",
        "import spotipy\n",
        "from spotipy.oauth2 import SpotifyClientCredentials #To access authorised Spotify data\n",
        "import csv\n",
        "import pandas as pd"
      ],
      "execution_count": null,
      "outputs": []
    },
    {
      "cell_type": "code",
      "metadata": {
        "id": "kxH4-VxQlqmN"
      },
      "source": [
        "client_id = \"\"\n",
        "client_secret = \"\""
      ],
      "execution_count": null,
      "outputs": []
    },
    {
      "cell_type": "code",
      "metadata": {
        "id": "N5ayTSbGlqmO"
      },
      "source": [
        "client_credentials_manager = SpotifyClientCredentials(client_id=client_id, client_secret=client_secret)\n",
        "sp = spotipy.Spotify(client_credentials_manager=client_credentials_manager) #spotify object to access API"
      ],
      "execution_count": null,
      "outputs": []
    },
    {
      "cell_type": "code",
      "metadata": {
        "id": "v1xARTZglqmO"
      },
      "source": [
        "def song_features(result):\n",
        "  '''\n",
        "  Get songs' features\n",
        "  '''\n",
        "  \n",
        "    songFeature = {}\n",
        "    track = result['tracks']['items'][0]['uri']\n",
        "    features = sp.audio_features(track)\n",
        "    cols = ['danceability', 'energy', 'speechiness', 'acousticness', 'instrumentalness', \n",
        "            'liveness', 'valence', 'tempo', 'type', 'duration_ms']\n",
        "    \n",
        "    songFeature['artist'] = result['tracks']['items'][0]['artists'][0]['name']\n",
        "    songFeature['song'] = result['tracks']['items'][0]['name']\n",
        "    \n",
        "    for col in cols:\n",
        "        songFeature[col] = features[0][col]\n",
        "        \n",
        "    pop = sp.track(track)\n",
        "    songFeature['popularity'] = pop['popularity']\n",
        "    \n",
        "    return songFeature"
      ],
      "execution_count": null,
      "outputs": []
    },
    {
      "cell_type": "code",
      "metadata": {
        "id": "6zVjF-E_lqmP"
      },
      "source": [
        "df = pd.read_csv('Book3.csv')"
      ],
      "execution_count": null,
      "outputs": []
    },
    {
      "cell_type": "code",
      "metadata": {
        "id": "pD4WFg8flqmQ"
      },
      "source": [
        "df.head()"
      ],
      "execution_count": null,
      "outputs": []
    },
    {
      "cell_type": "code",
      "metadata": {
        "id": "Gl-EzmKplqmS"
      },
      "source": [
        "df['Song'] = df.Song.str.replace(r\"\\(.*\\)\",\"\").str.replace(r\"\\[.*\\]\",\"\")"
      ],
      "execution_count": null,
      "outputs": []
    },
    {
      "cell_type": "code",
      "metadata": {
        "id": "gQ34yFGrlqmU"
      },
      "source": [
        "def main():\n",
        "  \n",
        "  stop = False\n",
        "  listSongFeature = []\n",
        "  \n",
        "  \n",
        "  for i in range (len(df)):\n",
        "      artist = df['Artist'][i]\n",
        "      song = df['Song'][i].rstrip()\n",
        "      result = sp.search(q=artist+ \" \" + song, limit=1)\n",
        "      sf = song_features(result) \n",
        "      listSongFeature.append(sf)\n",
        "      \n",
        "  csv_columns = ['artist', 'song', 'danceability', 'energy', 'speechiness', 'acousticness', 'instrumentalness', \n",
        "                'liveness', 'valence', 'tempo', 'type', 'duration_ms', 'popularity']\n",
        "  csv_file = \"features.csv\"\n",
        "  \n",
        "  try:\n",
        "      with open(csv_file, 'w') as csvfile:\n",
        "          writer = csv.writer(csvfile)\n",
        "          writer.writerow(csv_columns)\n",
        "          \n",
        "          for lsf in listSongFeature:\n",
        "              temp = list()\n",
        "              for key in lsf.keys():\n",
        "                  temp.append(lsf[key])\n",
        "              writer.writerow(temp)\n",
        "          \n",
        "  except IOError:\n",
        "      print(\"I/O error\")\n",
        "     "
      ],
      "execution_count": null,
      "outputs": []
    },
    {
      "cell_type": "code",
      "metadata": {
        "id": "TpohXsEAlqmV"
      },
      "source": [
        "if __name__ == '__main__':\n",
        "    main()"
      ],
      "execution_count": null,
      "outputs": []
    }
  ]
}