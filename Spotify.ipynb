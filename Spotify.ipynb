{
  "nbformat": 4,
  "nbformat_minor": 0,
  "metadata": {
    "kernelspec": {
      "display_name": "Python 3",
      "language": "python",
      "name": "python3"
    },
    "language_info": {
      "codemirror_mode": {
        "name": "ipython",
        "version": 3
      },
      "file_extension": ".py",
      "mimetype": "text/x-python",
      "name": "python",
      "nbconvert_exporter": "python",
      "pygments_lexer": "ipython3",
      "version": "3.8.5"
    },
    "colab": {
      "name": "Spotify.ipynb",
      "provenance": [],
      "collapsed_sections": [],
      "include_colab_link": true
    },
    "accelerator": "GPU"
  },
  "cells": [
    {
      "cell_type": "markdown",
      "metadata": {
        "id": "view-in-github",
        "colab_type": "text"
      },
      "source": [
        "<a href=\"https://colab.research.google.com/github/VDai1999/ConcertTicketSale/blob/main/Spotify.ipynb\" target=\"_parent\"><img src=\"https://colab.research.google.com/assets/colab-badge.svg\" alt=\"Open In Colab\"/></a>"
      ]
    },
    {
      "cell_type": "markdown",
      "metadata": {
        "id": "0SecQYHgERPh"
      },
      "source": [
        "# The Changes In the Taste of Music of Listeners Before and During Covid-19 (Top 200 Weekly Song's on Spotify Analysis)"
      ]
    },
    {
      "cell_type": "markdown",
      "metadata": {
        "id": "5d6uZ0kSGpI4"
      },
      "source": [
        "The aim of this project is to determine the impact of the pandemic on the listeners' taste based on the weekly top 200 global song on Spotify. \n",
        "<br><br>\n",
        "The songs and artists' names were retrieved from [Spotify website](https://spotifycharts.com/regional) during the period of 12/28/2018 to 12/04/2020. Based on the information of top songs, each song's features were collected using [Spotify API](https://spotipy.readthedocs.io/en/2.18.0/)."
      ]
    },
    {
      "cell_type": "code",
      "metadata": {
        "id": "1xvzbnXbLtRI",
        "colab": {
          "base_uri": "https://localhost:8080/"
        },
        "outputId": "3f2c87f6-6dca-4ae9-86ec-5daf5bbc511c"
      },
      "source": [
        "# Import libraries\n",
        "!pip install spotipy\n",
        "import spotipy\n",
        "from spotipy.oauth2 import SpotifyClientCredentials #To access authorised Spotify data\n",
        "import csv\n",
        "import pandas as pd\n",
        "import glob\n",
        "from scipy import stats\n",
        "import matplotlib.pyplot as plt\n",
        "import seaborn as sns\n",
        "import numpy as np\n",
        "from sklearn import preprocessing\n",
        "from sklearn.cluster import KMeans\n",
        "from scipy.spatial.distance import euclidean"
      ],
      "execution_count": null,
      "outputs": [
        {
          "output_type": "stream",
          "text": [
            "Collecting spotipy\n",
            "  Downloading https://files.pythonhosted.org/packages/02/9b/25b96cd2f1e2174ac787099b386e2afd427bf78dfb11e1c5857affc3409d/spotipy-2.18.0-py3-none-any.whl\n",
            "Requirement already satisfied: six>=1.15.0 in /usr/local/lib/python3.7/dist-packages (from spotipy) (1.15.0)\n",
            "Collecting requests>=2.25.0\n",
            "\u001b[?25l  Downloading https://files.pythonhosted.org/packages/29/c1/24814557f1d22c56d50280771a17307e6bf87b70727d975fd6b2ce6b014a/requests-2.25.1-py2.py3-none-any.whl (61kB)\n",
            "\u001b[K     |████████████████████████████████| 61kB 5.3MB/s \n",
            "\u001b[?25hCollecting urllib3>=1.26.0\n",
            "\u001b[?25l  Downloading https://files.pythonhosted.org/packages/0c/cd/1e2ec680ec7b09846dc6e605f5a7709dfb9d7128e51a026e7154e18a234e/urllib3-1.26.5-py2.py3-none-any.whl (138kB)\n",
            "\u001b[K     |████████████████████████████████| 143kB 28.7MB/s \n",
            "\u001b[?25hRequirement already satisfied: chardet<5,>=3.0.2 in /usr/local/lib/python3.7/dist-packages (from requests>=2.25.0->spotipy) (3.0.4)\n",
            "Requirement already satisfied: idna<3,>=2.5 in /usr/local/lib/python3.7/dist-packages (from requests>=2.25.0->spotipy) (2.10)\n",
            "Requirement already satisfied: certifi>=2017.4.17 in /usr/local/lib/python3.7/dist-packages (from requests>=2.25.0->spotipy) (2021.5.30)\n",
            "\u001b[31mERROR: google-colab 1.0.0 has requirement requests~=2.23.0, but you'll have requests 2.25.1 which is incompatible.\u001b[0m\n",
            "\u001b[31mERROR: datascience 0.10.6 has requirement folium==0.2.1, but you'll have folium 0.8.3 which is incompatible.\u001b[0m\n",
            "Installing collected packages: urllib3, requests, spotipy\n",
            "  Found existing installation: urllib3 1.24.3\n",
            "    Uninstalling urllib3-1.24.3:\n",
            "      Successfully uninstalled urllib3-1.24.3\n",
            "  Found existing installation: requests 2.23.0\n",
            "    Uninstalling requests-2.23.0:\n",
            "      Successfully uninstalled requests-2.23.0\n",
            "Successfully installed requests-2.25.1 spotipy-2.18.0 urllib3-1.26.5\n"
          ],
          "name": "stdout"
        }
      ]
    },
    {
      "cell_type": "code",
      "metadata": {
        "id": "wJbIjTwxT4Go",
        "colab": {
          "base_uri": "https://localhost:8080/"
        },
        "outputId": "e4fb86db-465b-45d6-d808-6c4a6ef161eb"
      },
      "source": [
        "# Connect to folders in Google Drive\n",
        "from google.colab import drive\n",
        "drive.mount('/content/gdrive')"
      ],
      "execution_count": null,
      "outputs": [
        {
          "output_type": "stream",
          "text": [
            "Mounted at /content/gdrive\n"
          ],
          "name": "stdout"
        }
      ]
    },
    {
      "cell_type": "code",
      "metadata": {
        "id": "OqB2z9hSLtRJ"
      },
      "source": [
        "# Id retrieved from Spotify\n",
        "client_id = \"abae10265e40459383a071be20e9fd3d\"\n",
        "client_secret = \"597eb168ef404f0ea0096f9932144e21\""
      ],
      "execution_count": null,
      "outputs": []
    },
    {
      "cell_type": "code",
      "metadata": {
        "id": "G2L86gO3LtRK"
      },
      "source": [
        "client_credentials_manager = SpotifyClientCredentials(client_id=client_id, client_secret=client_secret)\n",
        "sp = spotipy.Spotify(client_credentials_manager=client_credentials_manager) #spotify object to access API"
      ],
      "execution_count": null,
      "outputs": []
    },
    {
      "cell_type": "markdown",
      "metadata": {
        "id": "u1OhrRFdf8Nz"
      },
      "source": [
        "### **DATA CLEANING**"
      ]
    },
    {
      "cell_type": "markdown",
      "metadata": {
        "id": "wDhPF2P2uy8b"
      },
      "source": [
        "After downloading weekly top 200 songs from Spotify Website, all csvs files were uploaded to two separated folders in Google Drive. The first folder contains csv files from 12/28/2018 to 03/13/2020 exclusively (COVID-19 was declared as a pandemic on March 11, 2020), and the second folder contains files from 03/13/2020 to 12/04/2020 exclusively."
      ]
    },
    {
      "cell_type": "code",
      "metadata": {
        "id": "gBXcgi90ur11"
      },
      "source": [
        "# A function that help read all csv files from a folder and return a dataframe without duplicated values\n",
        "def read_csvs(path):\n",
        "  all_files = glob.glob(path + \"/*.csv\")\n",
        "\n",
        "  # Initialize a dataframe containing two columns: Track Name and Artist\n",
        "  combined_df = pd.DataFrame(columns=['Track Name','Artist'])\n",
        "\n",
        "  # Loop through all csv files and delete duplicated records using outer join\n",
        "  for filename in all_files:\n",
        "    df = pd.read_csv(filename, index_col=None, header=1)\n",
        "    df.drop([\"Position\", \"Streams\", \"URL\"], axis = 1, inplace = True) \n",
        "    combined_df = pd.merge(combined_df, df, on=['Track Name','Artist'], how='outer')\n",
        "\n",
        "  return combined_df"
      ],
      "execution_count": null,
      "outputs": []
    },
    {
      "cell_type": "code",
      "metadata": {
        "id": "Ku-A9Pka5ceG"
      },
      "source": [
        "# before_Covid data set: A data set that contains top songs being listened \n",
        "# before the pandemic (from 12/28/2018 to 03/13/2020 exclusively)\n",
        "before_Covid = read_csvs(r'/content/gdrive/MyDrive/Project/Sta402_FinalProject/data_beforeCovid')\n",
        "before_Covid.head()"
      ],
      "execution_count": null,
      "outputs": []
    },
    {
      "cell_type": "code",
      "metadata": {
        "id": "z1r35d1X6Arx"
      },
      "source": [
        "# during_Covid: A data set that contains top songs being listened \n",
        "# during the pandemic (from 03/13/2020 to 12/04/2020 exclusively)\n",
        "during_Covid = read_csvs(r'/content/gdrive/MyDrive/Project/Sta402_FinalProject/data_duringCovid')\n",
        "during_Covid.head()"
      ],
      "execution_count": null,
      "outputs": []
    },
    {
      "cell_type": "code",
      "metadata": {
        "id": "WEsfbux_6flr"
      },
      "source": [
        "# A function that condenses the song's name\n",
        "def cleaning(df):\n",
        "  # EX: Who (feat. BTS) => Who\n",
        "  df['Track Name'] = df['Track Name'].str.replace(r\"\\(.*\\)\",\"\")\n",
        "\n",
        "  # Delete any words after hyphen (\"-\")\n",
        "  for row in range (len(df)):\n",
        "    df.iloc[row,0] = df.iloc[row,0].split(\" -\", 1)[0]\n",
        "\n",
        "  return df"
      ],
      "execution_count": null,
      "outputs": []
    },
    {
      "cell_type": "code",
      "metadata": {
        "id": "l3MGh1Ks7C_v"
      },
      "source": [
        "# Cleaning song's names of the before_Covid data set\n",
        "before_Covid = cleaning(before_Covid)\n",
        "before_Covid.head()"
      ],
      "execution_count": null,
      "outputs": []
    },
    {
      "cell_type": "code",
      "metadata": {
        "id": "Y6tFjr-w7ThM"
      },
      "source": [
        "# Cleaning song's names of the during_Covid data set\n",
        "during_Covid = cleaning(during_Covid)\n",
        "during_Covid.head()"
      ],
      "execution_count": null,
      "outputs": []
    },
    {
      "cell_type": "markdown",
      "metadata": {
        "id": "SX0Hb-ZTzEXE"
      },
      "source": [
        "Songs appeared in both before_Covid and during_Covid dataset were deleted."
      ]
    },
    {
      "cell_type": "code",
      "metadata": {
        "id": "kQLSN59H__ks"
      },
      "source": [
        "# A function that performs left outer join exclusive to delete shared songs in two datasets.\n",
        "def left_outer_excl(df1, df2):\n",
        "  # Delete shared songs between 2 datasets\n",
        "  df_excl = pd.merge(df1, df2[['Track Name']], on='Track Name', how=\"left\", \n",
        "                   indicator=True).query('_merge==\"left_only\"')\n",
        "\n",
        "  # Drop the _merge column\n",
        "  df_excl = df_excl.drop(columns=[\"_merge\"])\n",
        "\n",
        "  # Reset the index\n",
        "  df_excl.reset_index(inplace=True, drop=True)\n",
        "\n",
        "  return df_excl"
      ],
      "execution_count": null,
      "outputs": []
    },
    {
      "cell_type": "code",
      "metadata": {
        "id": "zUziDwIoAuM1"
      },
      "source": [
        "# Delete shared songs in the before_Covid data set\n",
        "before_Covid_excl = left_outer_excl(before_Covid, during_Covid)\n",
        "before_Covid_excl.head()\n",
        "\n",
        "# Check the length of the new data set\n",
        "len(before_Covid_excl)"
      ],
      "execution_count": null,
      "outputs": []
    },
    {
      "cell_type": "code",
      "metadata": {
        "id": "FnLYgjxoBTgM"
      },
      "source": [
        "# Delete shared songs in the during_Covid data set\n",
        "during_Covid_excl = left_outer_excl(during_Covid, before_Covid)\n",
        "during_Covid_excl.head()\n",
        "\n",
        "# Check the length of the new data set\n",
        "len(during_Covid_excl)"
      ],
      "execution_count": null,
      "outputs": []
    },
    {
      "cell_type": "code",
      "metadata": {
        "id": "J1g4j0swBj4h"
      },
      "source": [
        "# Try to perform inner join between two new data sets to check if there are any shared songs left. \n",
        "# If the left outer join exclusive was done correctly, the returned dataframe should have 0 row.\n",
        "pd.merge(before_Covid_excl, during_Covid_excl[[\"Track Name\"]], on='Track Name')"
      ],
      "execution_count": null,
      "outputs": []
    },
    {
      "cell_type": "code",
      "metadata": {
        "id": "W28QkCHFCdS1"
      },
      "source": [
        "# Save the original dataframes into the csv files\n",
        "before_Covid.to_csv(r'/content/gdrive/MyDrive/Project/Sta402_FinalProject/data/before_Covid.csv', index=False)\n",
        "during_Covid.to_csv(r'/content/gdrive/MyDrive/Project/Sta402_FinalProject/data/during_Covid.csv', index=False)"
      ],
      "execution_count": null,
      "outputs": []
    },
    {
      "cell_type": "code",
      "metadata": {
        "id": "tdPvbRcOLtRM"
      },
      "source": [
        "# Save the exclusive dataframes into the csv files\n",
        "before_Covid_excl.to_csv(r'/content/gdrive/MyDrive/Project/Sta402_FinalProject/data/before_Covid_excl.csv', index=False)\n",
        "during_Covid_excl.to_csv(r'/content/gdrive/MyDrive/Project/Sta402_FinalProject/data/during_Covid_excl.csv', index=False)"
      ],
      "execution_count": null,
      "outputs": []
    },
    {
      "cell_type": "code",
      "metadata": {
        "id": "QiO6TTOJTWHb"
      },
      "source": [
        "# Read before_Covid_excl.csv and during_Covid_excl.csv files\n",
        "before_Covid_excl = pd.read_csv(\"/content/gdrive/MyDrive/Project/Sta402_FinalProject/data/before_Covid_excl.csv\")\n",
        "during_Covid_excl = pd.read_csv(\"/content/gdrive/MyDrive/Project/Sta402_FinalProject/data/during_Covid_excl.csv\")"
      ],
      "execution_count": null,
      "outputs": []
    },
    {
      "cell_type": "markdown",
      "metadata": {
        "id": "AcTCNfxjQLxI"
      },
      "source": [
        "### **FEATURES RETRIEVAL FROM SPOTIFY**"
      ]
    },
    {
      "cell_type": "markdown",
      "metadata": {
        "id": "c1Kh91FR0IRW"
      },
      "source": [
        "After cleaning songs and artists' names, songs' features were retrieved from Spotify."
      ]
    },
    {
      "cell_type": "code",
      "metadata": {
        "id": "5HuTRH4ONnQS"
      },
      "source": [
        "# A function that gets songs' features from JSON data format\n",
        "def song_features(result):\n",
        "    songFeature = {}\n",
        "    track = result['tracks']['items'][0]['uri']\n",
        "    features = sp.audio_features(track)\n",
        "    cols = ['danceability', 'energy', 'speechiness', 'acousticness', 'instrumentalness', \n",
        "            'liveness', 'valence', 'tempo', 'type', 'duration_ms']\n",
        "    \n",
        "    songFeature['artist'] = result['tracks']['items'][0]['artists'][0]['name']\n",
        "    songFeature['song'] = result['tracks']['items'][0]['name']\n",
        "    \n",
        "    for col in cols:\n",
        "        songFeature[col] = features[0][col]\n",
        "        \n",
        "    pop = sp.track(track)\n",
        "    songFeature['popularity'] = pop['popularity']\n",
        "    \n",
        "    return songFeature"
      ],
      "execution_count": null,
      "outputs": []
    },
    {
      "cell_type": "code",
      "metadata": {
        "id": "-zrP6T1ueQLO"
      },
      "source": [
        "# A function that retrieves the features of the top song from Spotify\n",
        "def get_Features(df):\n",
        "    listSongFeature = []\n",
        "    songFeatures_df = pd.DataFrame(columns= ['artist', 'song', 'danceability', 'energy', 'speechiness', 'acousticness', \n",
        "                                     'instrumentalness', 'liveness', 'valence', 'tempo', 'type', 'duration_ms', \n",
        "                                     'popularity'])\n",
        "    \n",
        "    for i in range (len(df)):\n",
        "        artist = df['Artist'][i]\n",
        "        song = df['Track Name'][i]\n",
        "\n",
        "        result = sp.search(q=song + \" \" + artist, limit=1)\n",
        "  \n",
        "        sf = song_features(result)\n",
        "        temp_df = pd.DataFrame(sf, index=[0])\n",
        "        songFeatures_df = songFeatures_df.append(temp_df, ignore_index = True)\n",
        "      \n",
        "    return songFeatures_df\n",
        "     "
      ],
      "execution_count": null,
      "outputs": []
    },
    {
      "cell_type": "code",
      "metadata": {
        "id": "MBmWvVNLJq3A"
      },
      "source": [
        "########################\n",
        "## BEFORE_COVID_EXCL\n",
        "########################\n",
        "\n",
        "# Delete \"Lost in Japan\" by Shawn Mendes and \"Walk Me Home\" by P!nk because of the difference in the format\n",
        "before_Covid_excl.drop(before_Covid_excl.index[[520,657]], axis=0, inplace=True)\n",
        "\n",
        "# Reset the index\n",
        "before_Covid_excl.reset_index(inplace=True, drop=True)\n",
        "\n",
        "# Get the features\n",
        "before_Covid_Features = get_Features(before_Covid_excl)\n",
        "before_Covid_Features_excl.head()"
      ],
      "execution_count": null,
      "outputs": []
    },
    {
      "cell_type": "code",
      "metadata": {
        "id": "E7UijLC5c-cm"
      },
      "source": [
        "########################\n",
        "## DURING_COVID_EXCL\n",
        "########################\n",
        "\n",
        "# Delete \"In meinem Benz\" by AK AUSSERKONTROLLE because of the difference in the format\n",
        "during_Covid_excl.drop(during_Covid_excl.index[[464]], axis=0, inplace=True)\n",
        "\n",
        "# Reset the index\n",
        "during_Covid_excl.reset_index(inplace=True, drop=True)\n",
        "\n",
        "# Get the features\n",
        "during_Covid_Features = get_Features(during_Covid_excl)\n",
        "during_Covid_Features.head()"
      ],
      "execution_count": null,
      "outputs": []
    },
    {
      "cell_type": "code",
      "metadata": {
        "id": "wprgKtFxLTPz"
      },
      "source": [
        "# Save the features dataframes into the csv files\n",
        "before_Covid_Features.to_csv(r'/content/gdrive/MyDrive/Project/Sta402_FinalProject/data/before_Covid_Features.csv', index=False)\n",
        "during_Covid_Features.to_csv(r'/content/gdrive/MyDrive/Project/Sta402_FinalProject/data/during_Covid_Features.csv', index=False)"
      ],
      "execution_count": null,
      "outputs": []
    },
    {
      "cell_type": "code",
      "metadata": {
        "id": "PpfQAF3nfMpN"
      },
      "source": [
        "# Read before_Covid_Features.csv and during_Covid_Features.csv files\n",
        "before_Covid_Features = pd.read_csv(\"/content/gdrive/MyDrive/Project/Sta402_FinalProject/data/before_Covid_Features.csv\")\n",
        "during_Covid_Features = pd.read_csv(\"/content/gdrive/MyDrive/Project/Sta402_FinalProject/data/during_Covid_Features.csv\")"
      ],
      "execution_count": null,
      "outputs": []
    },
    {
      "cell_type": "markdown",
      "metadata": {
        "id": "GLQ6jz2wiRvU"
      },
      "source": [
        "### **EXPLORATORY DATA ANALYSIS**"
      ]
    },
    {
      "cell_type": "code",
      "metadata": {
        "id": "hz0oZaWViaKN"
      },
      "source": [
        "# Briefly explore the songs' features of before Covid data set\n",
        "before_Covid_Features.info()\n",
        "before_Covid_Features.describe()"
      ],
      "execution_count": null,
      "outputs": []
    },
    {
      "cell_type": "code",
      "metadata": {
        "id": "yTUyG0tro22f"
      },
      "source": [
        "# Briefly explore the songs' features of during Covid data set\n",
        "during_Covid_Features.info()\n",
        "during_Covid_Features.describe()"
      ],
      "execution_count": null,
      "outputs": []
    },
    {
      "cell_type": "code",
      "metadata": {
        "id": "j4fMeuQNo8QG"
      },
      "source": [
        "# Plot boxplot of before_Covid_Features dataframe\n",
        "sns.boxplot(data=before_Covid_Features.drop(['artist', 'song', 'type', 'duration_ms', 'popularity', 'tempo'], axis=1))\n",
        "plt.xlabel('Features')\n",
        "plt.ylabel('Values')\n",
        "plt.xticks(rotation='vertical')\n",
        "plt.show()"
      ],
      "execution_count": null,
      "outputs": []
    },
    {
      "cell_type": "code",
      "metadata": {
        "id": "6vZMlKg7uhg0"
      },
      "source": [
        "# Plot boxplot of during_Covid_Features dataframe\n",
        "sns.boxplot(data=during_Covid_Features.drop(['artist', 'song', 'type', 'duration_ms', 'popularity', 'tempo'], axis=1))\n",
        "plt.xlabel('Features')\n",
        "plt.ylabel('Values')\n",
        "plt.xticks(rotation='vertical')\n",
        "plt.show()"
      ],
      "execution_count": null,
      "outputs": []
    },
    {
      "cell_type": "markdown",
      "metadata": {
        "id": "Dmi_So8t3d7o"
      },
      "source": [
        "Based on two boxplots above, we see that the distribution of most features are similiar when comparing each feature in pair (before versus during COVID-19 period). However, we will perform the statistical tests to make a final conclusion."
      ]
    },
    {
      "cell_type": "code",
      "metadata": {
        "id": "EevP8sGq4NZA"
      },
      "source": [
        "# Plot linear correlation matrix of before_Covid_Features dataframe\n",
        "fig, ax = plt.subplots(figsize=(15,10))\n",
        "sns.heatmap(before_Covid_Features.corr(), annot=True, cmap='YlGnBu', vmin=-1, vmax=1, center=0, ax=ax)\n",
        "plt.title('PEARSON CORRELATION (BEFORE COVID-19)')\n",
        "plt.show()"
      ],
      "execution_count": null,
      "outputs": []
    },
    {
      "cell_type": "markdown",
      "metadata": {
        "id": "gsrtMsO_bRn0"
      },
      "source": [
        "Based on the correlation matrix, it seems that the longer the song is, the less danceability, valence, and speechiness the song has. Furthermore, it seems that the popularity of a song positively correlates with the danceability, speechiness, instrumentalness, tempo, and duration of the song."
      ]
    },
    {
      "cell_type": "code",
      "metadata": {
        "id": "ejj-NKG84x_p"
      },
      "source": [
        "# Plot linear correlation matrix of during_Covid_Features dataframe\n",
        "fig, ax = plt.subplots(figsize=(15,10))\n",
        "sns.heatmap(during_Covid_Features.corr(), annot=True, cmap='YlGnBu', vmin=-1, vmax=1, center=0, ax=ax)\n",
        "plt.title('PEARSON CORRELATION (DURING COVID-19)')\n",
        "plt.show()"
      ],
      "execution_count": null,
      "outputs": []
    },
    {
      "cell_type": "markdown",
      "metadata": {
        "id": "wdFzMnkZi-Np"
      },
      "source": [
        "### **ANALYSIS**"
      ]
    },
    {
      "cell_type": "code",
      "metadata": {
        "id": "hUJnJvqiTZCn"
      },
      "source": [
        "# A function that takes 2 dataframes and the feature's name to conduct the two sample t-test in order to see\n",
        "# if there is a significant difference in music's taste before and during the pandemic.\n",
        "def two_sample_t(dat1, dat2, feature):\n",
        "  arr1 = dat1.loc[:, feature].values.tolist()\n",
        "  arr2 = dat2.loc[:, feature].values.tolist()\n",
        "  stat, p = stats.ttest_ind(arr1, arr2)\n",
        "  alpha = 0.05\n",
        "\n",
        "  if p > alpha:\n",
        "    print(\"Fail to reject H0. Therefore, two samples have the same distributions.\")\n",
        "  else:\n",
        "    print(\"Reject H0. Therefore, two samples have difference distributions.\")\n",
        "\n",
        "  return \"Result: Statistic=\" + str(stat) + \", p-value=\" + str(p)"
      ],
      "execution_count": null,
      "outputs": []
    },
    {
      "cell_type": "code",
      "metadata": {
        "id": "Jf8BK7uLT5os"
      },
      "source": [
        "# Source: https://github.com/bhattbhavesh91/GA_Sessions/blob/master/t_test_independence/T_Test_Sales.ipynb\n",
        "# A function that draw histograms of 2 samples\n",
        "def dist_plot(dat1, dat2, feature):\n",
        "  arr1 = np.array(dat1.loc[:, feature])\n",
        "  arr2 = np.array(dat2.loc[:, feature])\n",
        "\n",
        "  plt.figure()\n",
        "  ax1 = sns.distplot(arr1)\n",
        "  ax2 = sns.distplot(arr2)\n",
        "  plt.axvline(np.mean(arr1), color='blue', linestyle='dashed', linewidth=3)\n",
        "  plt.axvline(np.mean(arr2), color='orange', linestyle='dashed', linewidth=3)\n",
        "\n",
        "  return plt.figure"
      ],
      "execution_count": null,
      "outputs": []
    },
    {
      "cell_type": "markdown",
      "metadata": {
        "id": "kMw2vj2m9G2e"
      },
      "source": [
        "#### *Danceability*"
      ]
    },
    {
      "cell_type": "code",
      "metadata": {
        "id": "7aBV0ICqUTeD"
      },
      "source": [
        "dist_plot(before_Covid_Features, during_Covid_Features, 'danceability')"
      ],
      "execution_count": null,
      "outputs": []
    },
    {
      "cell_type": "code",
      "metadata": {
        "id": "CwhcQjYP-j_y"
      },
      "source": [
        "two_sample_t(before_Covid_Features, during_Covid_Features, 'danceability')"
      ],
      "execution_count": null,
      "outputs": []
    },
    {
      "cell_type": "markdown",
      "metadata": {
        "id": "lIz8pMIh9bHe"
      },
      "source": [
        "#### *Energy*"
      ]
    },
    {
      "cell_type": "code",
      "metadata": {
        "id": "lvNeco5s9izc"
      },
      "source": [
        "dist_plot(before_Covid_Features, during_Covid_Features, 'energy')"
      ],
      "execution_count": null,
      "outputs": []
    },
    {
      "cell_type": "code",
      "metadata": {
        "id": "ZtK6ZEda_9zy"
      },
      "source": [
        "two_sample_t(before_Covid_Features, during_Covid_Features, 'energy')"
      ],
      "execution_count": null,
      "outputs": []
    },
    {
      "cell_type": "markdown",
      "metadata": {
        "id": "rsmvyDUrACj7"
      },
      "source": [
        "#### *Speechiness*"
      ]
    },
    {
      "cell_type": "code",
      "metadata": {
        "id": "uzzKxcexAH1r"
      },
      "source": [
        "dist_plot(before_Covid_Features, during_Covid_Features, 'speechiness')"
      ],
      "execution_count": null,
      "outputs": []
    },
    {
      "cell_type": "code",
      "metadata": {
        "id": "z97qyl_5AMIY"
      },
      "source": [
        "two_sample_t(before_Covid_Features, during_Covid_Features, 'speechiness')"
      ],
      "execution_count": null,
      "outputs": []
    },
    {
      "cell_type": "markdown",
      "metadata": {
        "id": "GzKLHL75AVq2"
      },
      "source": [
        "#### *Acousticness*"
      ]
    },
    {
      "cell_type": "code",
      "metadata": {
        "id": "Vut1nltAAahB"
      },
      "source": [
        "dist_plot(before_Covid_Features, during_Covid_Features, 'acousticness')"
      ],
      "execution_count": null,
      "outputs": []
    },
    {
      "cell_type": "code",
      "metadata": {
        "id": "fo7DvPnIAfFH"
      },
      "source": [
        "two_sample_t(before_Covid_Features, during_Covid_Features, 'acousticness')"
      ],
      "execution_count": null,
      "outputs": []
    },
    {
      "cell_type": "markdown",
      "metadata": {
        "id": "c8XdyHUpBDAx"
      },
      "source": [
        "#### *Instrumentalness*"
      ]
    },
    {
      "cell_type": "code",
      "metadata": {
        "id": "ozrvigLlBNSU"
      },
      "source": [
        "dist_plot(before_Covid_Features, during_Covid_Features, 'instrumentalness')"
      ],
      "execution_count": null,
      "outputs": []
    },
    {
      "cell_type": "code",
      "metadata": {
        "id": "PbLQkPrpBYuz"
      },
      "source": [
        "two_sample_t(before_Covid_Features, during_Covid_Features, 'instrumentalness')"
      ],
      "execution_count": null,
      "outputs": []
    },
    {
      "cell_type": "markdown",
      "metadata": {
        "id": "BNVax8JtBdG2"
      },
      "source": [
        "#### *Liveness*"
      ]
    },
    {
      "cell_type": "code",
      "metadata": {
        "id": "QBcMz86gBfa2"
      },
      "source": [
        "dist_plot(before_Covid_Features, during_Covid_Features, 'liveness')"
      ],
      "execution_count": null,
      "outputs": []
    },
    {
      "cell_type": "code",
      "metadata": {
        "id": "IWfck9EDBmry"
      },
      "source": [
        "two_sample_t(before_Covid_Features, during_Covid_Features, 'liveness')"
      ],
      "execution_count": null,
      "outputs": []
    },
    {
      "cell_type": "markdown",
      "metadata": {
        "id": "JktyZ68UBqzw"
      },
      "source": [
        "#### *Valence*"
      ]
    },
    {
      "cell_type": "code",
      "metadata": {
        "id": "UwDFOO_sBuVp"
      },
      "source": [
        "dist_plot(before_Covid_Features, during_Covid_Features, 'valence')"
      ],
      "execution_count": null,
      "outputs": []
    },
    {
      "cell_type": "code",
      "metadata": {
        "id": "W2dJHDMRBzoW"
      },
      "source": [
        "two_sample_t(before_Covid_Features, during_Covid_Features, 'valence')"
      ],
      "execution_count": null,
      "outputs": []
    },
    {
      "cell_type": "markdown",
      "metadata": {
        "id": "_NMblbHTCCBZ"
      },
      "source": [
        "#### *Tempo*"
      ]
    },
    {
      "cell_type": "code",
      "metadata": {
        "id": "NiWs6_q6B8SO"
      },
      "source": [
        "dist_plot(before_Covid_Features, during_Covid_Features, 'tempo')"
      ],
      "execution_count": null,
      "outputs": []
    },
    {
      "cell_type": "code",
      "metadata": {
        "id": "2hK9BtqJB2ke"
      },
      "source": [
        "two_sample_t(before_Covid_Features, during_Covid_Features, 'tempo')"
      ],
      "execution_count": null,
      "outputs": []
    },
    {
      "cell_type": "markdown",
      "metadata": {
        "id": "4VdB6iZwUwUZ"
      },
      "source": [
        "It seems that the music's taste of Spotify listeners has not changed due to the pandemic."
      ]
    },
    {
      "cell_type": "markdown",
      "metadata": {
        "id": "Z-36RCduuPSC"
      },
      "source": [
        "### **SONG RECOMMENDATION**"
      ]
    },
    {
      "cell_type": "code",
      "metadata": {
        "id": "k_h9FOxguv9t",
        "colab": {
          "base_uri": "https://localhost:8080/",
          "height": 204
        },
        "outputId": "810707b6-b157-4b2f-a61c-7ebc49c09c54"
      },
      "source": [
        "full_features = before_Covid_Features.append(during_Covid_Features, ignore_index=True)\n",
        "full_features.head()"
      ],
      "execution_count": null,
      "outputs": [
        {
          "output_type": "execute_result",
          "data": {
            "text/html": [
              "<div>\n",
              "<style scoped>\n",
              "    .dataframe tbody tr th:only-of-type {\n",
              "        vertical-align: middle;\n",
              "    }\n",
              "\n",
              "    .dataframe tbody tr th {\n",
              "        vertical-align: top;\n",
              "    }\n",
              "\n",
              "    .dataframe thead th {\n",
              "        text-align: right;\n",
              "    }\n",
              "</style>\n",
              "<table border=\"1\" class=\"dataframe\">\n",
              "  <thead>\n",
              "    <tr style=\"text-align: right;\">\n",
              "      <th></th>\n",
              "      <th>artist</th>\n",
              "      <th>song</th>\n",
              "      <th>danceability</th>\n",
              "      <th>energy</th>\n",
              "      <th>speechiness</th>\n",
              "      <th>acousticness</th>\n",
              "      <th>instrumentalness</th>\n",
              "      <th>liveness</th>\n",
              "      <th>valence</th>\n",
              "      <th>tempo</th>\n",
              "      <th>type</th>\n",
              "      <th>duration_ms</th>\n",
              "      <th>popularity</th>\n",
              "    </tr>\n",
              "  </thead>\n",
              "  <tbody>\n",
              "    <tr>\n",
              "      <th>0</th>\n",
              "      <td>Lil Uzi Vert</td>\n",
              "      <td>POP</td>\n",
              "      <td>0.741</td>\n",
              "      <td>0.599</td>\n",
              "      <td>0.419</td>\n",
              "      <td>0.00961</td>\n",
              "      <td>0.0</td>\n",
              "      <td>0.785</td>\n",
              "      <td>0.276</td>\n",
              "      <td>139.891</td>\n",
              "      <td>audio_features</td>\n",
              "      <td>227474</td>\n",
              "      <td>60</td>\n",
              "    </tr>\n",
              "    <tr>\n",
              "      <th>1</th>\n",
              "      <td>Lil Uzi Vert</td>\n",
              "      <td>Celebration Station</td>\n",
              "      <td>0.748</td>\n",
              "      <td>0.771</td>\n",
              "      <td>0.150</td>\n",
              "      <td>0.10100</td>\n",
              "      <td>0.0</td>\n",
              "      <td>0.135</td>\n",
              "      <td>0.792</td>\n",
              "      <td>142.086</td>\n",
              "      <td>audio_features</td>\n",
              "      <td>195058</td>\n",
              "      <td>63</td>\n",
              "    </tr>\n",
              "    <tr>\n",
              "      <th>2</th>\n",
              "      <td>Lil Uzi Vert</td>\n",
              "      <td>Bigger Than Life</td>\n",
              "      <td>0.776</td>\n",
              "      <td>0.752</td>\n",
              "      <td>0.193</td>\n",
              "      <td>0.32500</td>\n",
              "      <td>0.0</td>\n",
              "      <td>0.330</td>\n",
              "      <td>0.716</td>\n",
              "      <td>140.013</td>\n",
              "      <td>audio_features</td>\n",
              "      <td>192705</td>\n",
              "      <td>64</td>\n",
              "    </tr>\n",
              "    <tr>\n",
              "      <th>3</th>\n",
              "      <td>Lil Uzi Vert</td>\n",
              "      <td>Venetia</td>\n",
              "      <td>0.775</td>\n",
              "      <td>0.757</td>\n",
              "      <td>0.175</td>\n",
              "      <td>0.16200</td>\n",
              "      <td>0.0</td>\n",
              "      <td>0.148</td>\n",
              "      <td>0.562</td>\n",
              "      <td>142.933</td>\n",
              "      <td>audio_features</td>\n",
              "      <td>188800</td>\n",
              "      <td>65</td>\n",
              "    </tr>\n",
              "    <tr>\n",
              "      <th>4</th>\n",
              "      <td>Lil Uzi Vert</td>\n",
              "      <td>You Better Move</td>\n",
              "      <td>0.842</td>\n",
              "      <td>0.556</td>\n",
              "      <td>0.442</td>\n",
              "      <td>0.15900</td>\n",
              "      <td>0.0</td>\n",
              "      <td>0.204</td>\n",
              "      <td>0.306</td>\n",
              "      <td>118.836</td>\n",
              "      <td>audio_features</td>\n",
              "      <td>196639</td>\n",
              "      <td>61</td>\n",
              "    </tr>\n",
              "  </tbody>\n",
              "</table>\n",
              "</div>"
            ],
            "text/plain": [
              "         artist                 song  ...  duration_ms  popularity\n",
              "0  Lil Uzi Vert                  POP  ...       227474          60\n",
              "1  Lil Uzi Vert  Celebration Station  ...       195058          63\n",
              "2  Lil Uzi Vert     Bigger Than Life  ...       192705          64\n",
              "3  Lil Uzi Vert              Venetia  ...       188800          65\n",
              "4  Lil Uzi Vert      You Better Move  ...       196639          61\n",
              "\n",
              "[5 rows x 13 columns]"
            ]
          },
          "metadata": {
            "tags": []
          },
          "execution_count": 6
        }
      ]
    },
    {
      "cell_type": "code",
      "metadata": {
        "id": "4wZKbryTveDj",
        "colab": {
          "base_uri": "https://localhost:8080/"
        },
        "outputId": "1806b5e0-e3fa-4a08-db98-2de1d8378c1b"
      },
      "source": [
        "full_features.info()"
      ],
      "execution_count": null,
      "outputs": [
        {
          "output_type": "stream",
          "text": [
            "<class 'pandas.core.frame.DataFrame'>\n",
            "RangeIndex: 1597 entries, 0 to 1596\n",
            "Data columns (total 13 columns):\n",
            " #   Column            Non-Null Count  Dtype  \n",
            "---  ------            --------------  -----  \n",
            " 0   artist            1597 non-null   object \n",
            " 1   song              1597 non-null   object \n",
            " 2   danceability      1597 non-null   float64\n",
            " 3   energy            1597 non-null   float64\n",
            " 4   speechiness       1597 non-null   float64\n",
            " 5   acousticness      1597 non-null   float64\n",
            " 6   instrumentalness  1597 non-null   float64\n",
            " 7   liveness          1597 non-null   float64\n",
            " 8   valence           1597 non-null   float64\n",
            " 9   tempo             1597 non-null   float64\n",
            " 10  type              1597 non-null   object \n",
            " 11  duration_ms       1597 non-null   int64  \n",
            " 12  popularity        1597 non-null   int64  \n",
            "dtypes: float64(8), int64(2), object(3)\n",
            "memory usage: 162.3+ KB\n"
          ],
          "name": "stdout"
        }
      ]
    },
    {
      "cell_type": "code",
      "metadata": {
        "id": "kLTXbfuJvu2a",
        "colab": {
          "base_uri": "https://localhost:8080/",
          "height": 204
        },
        "outputId": "7a8b75c4-3a0e-4070-80ce-c41b7442dead"
      },
      "source": [
        "# Create a dataframe that only contains numeric columns\n",
        "numeric_types = ['int64', 'float64']\n",
        "numeric_features = full_features.select_dtypes(include=numeric_types)\n",
        "\n",
        "# Normalize numeric columns\n",
        "d = preprocessing.normalize(numeric_features, axis=0)\n",
        "full_features_scaled = pd.DataFrame(d, columns=numeric_features.columns)\n",
        "full_features_scaled.head()"
      ],
      "execution_count": null,
      "outputs": [
        {
          "output_type": "execute_result",
          "data": {
            "text/html": [
              "<div>\n",
              "<style scoped>\n",
              "    .dataframe tbody tr th:only-of-type {\n",
              "        vertical-align: middle;\n",
              "    }\n",
              "\n",
              "    .dataframe tbody tr th {\n",
              "        vertical-align: top;\n",
              "    }\n",
              "\n",
              "    .dataframe thead th {\n",
              "        text-align: right;\n",
              "    }\n",
              "</style>\n",
              "<table border=\"1\" class=\"dataframe\">\n",
              "  <thead>\n",
              "    <tr style=\"text-align: right;\">\n",
              "      <th></th>\n",
              "      <th>danceability</th>\n",
              "      <th>energy</th>\n",
              "      <th>speechiness</th>\n",
              "      <th>acousticness</th>\n",
              "      <th>instrumentalness</th>\n",
              "      <th>liveness</th>\n",
              "      <th>valence</th>\n",
              "      <th>tempo</th>\n",
              "      <th>duration_ms</th>\n",
              "      <th>popularity</th>\n",
              "    </tr>\n",
              "  </thead>\n",
              "  <tbody>\n",
              "    <tr>\n",
              "      <th>0</th>\n",
              "      <td>0.025951</td>\n",
              "      <td>0.022768</td>\n",
              "      <td>0.058731</td>\n",
              "      <td>0.000729</td>\n",
              "      <td>0.0</td>\n",
              "      <td>0.086492</td>\n",
              "      <td>0.012638</td>\n",
              "      <td>0.027731</td>\n",
              "      <td>0.027930</td>\n",
              "      <td>0.021808</td>\n",
              "    </tr>\n",
              "    <tr>\n",
              "      <th>1</th>\n",
              "      <td>0.026196</td>\n",
              "      <td>0.029305</td>\n",
              "      <td>0.021025</td>\n",
              "      <td>0.007659</td>\n",
              "      <td>0.0</td>\n",
              "      <td>0.014874</td>\n",
              "      <td>0.036265</td>\n",
              "      <td>0.028166</td>\n",
              "      <td>0.023950</td>\n",
              "      <td>0.022898</td>\n",
              "    </tr>\n",
              "    <tr>\n",
              "      <th>2</th>\n",
              "      <td>0.027177</td>\n",
              "      <td>0.028583</td>\n",
              "      <td>0.027053</td>\n",
              "      <td>0.024645</td>\n",
              "      <td>0.0</td>\n",
              "      <td>0.036360</td>\n",
              "      <td>0.032785</td>\n",
              "      <td>0.027755</td>\n",
              "      <td>0.023661</td>\n",
              "      <td>0.023262</td>\n",
              "    </tr>\n",
              "    <tr>\n",
              "      <th>3</th>\n",
              "      <td>0.027142</td>\n",
              "      <td>0.028773</td>\n",
              "      <td>0.024530</td>\n",
              "      <td>0.012285</td>\n",
              "      <td>0.0</td>\n",
              "      <td>0.016307</td>\n",
              "      <td>0.025733</td>\n",
              "      <td>0.028334</td>\n",
              "      <td>0.023182</td>\n",
              "      <td>0.023625</td>\n",
              "    </tr>\n",
              "    <tr>\n",
              "      <th>4</th>\n",
              "      <td>0.029488</td>\n",
              "      <td>0.021133</td>\n",
              "      <td>0.061955</td>\n",
              "      <td>0.012057</td>\n",
              "      <td>0.0</td>\n",
              "      <td>0.022477</td>\n",
              "      <td>0.014011</td>\n",
              "      <td>0.023557</td>\n",
              "      <td>0.024144</td>\n",
              "      <td>0.022171</td>\n",
              "    </tr>\n",
              "  </tbody>\n",
              "</table>\n",
              "</div>"
            ],
            "text/plain": [
              "   danceability    energy  speechiness  ...     tempo  duration_ms  popularity\n",
              "0      0.025951  0.022768     0.058731  ...  0.027731     0.027930    0.021808\n",
              "1      0.026196  0.029305     0.021025  ...  0.028166     0.023950    0.022898\n",
              "2      0.027177  0.028583     0.027053  ...  0.027755     0.023661    0.023262\n",
              "3      0.027142  0.028773     0.024530  ...  0.028334     0.023182    0.023625\n",
              "4      0.029488  0.021133     0.061955  ...  0.023557     0.024144    0.022171\n",
              "\n",
              "[5 rows x 10 columns]"
            ]
          },
          "metadata": {
            "tags": []
          },
          "execution_count": 8
        }
      ]
    },
    {
      "cell_type": "code",
      "metadata": {
        "id": "bBomoqFl4ppc",
        "colab": {
          "base_uri": "https://localhost:8080/",
          "height": 204
        },
        "outputId": "0090d887-ff77-4412-d359-236ae69625d8"
      },
      "source": [
        "# Extract a sub-dataframe that only contains non-numeric columns\n",
        "nonnumeric_cols = full_features.select_dtypes(include=['object'])\n",
        "\n",
        "# Merge non-numeric and normalized-numeric columns into one dataframe\n",
        "full_df = nonnumeric_cols.join(full_features_scaled)\n",
        "\n",
        "# Reorder columns\n",
        "column_names = full_features.columns\n",
        "full_df = full_df.reindex(columns=column_names)\n",
        "full_df.head()"
      ],
      "execution_count": null,
      "outputs": [
        {
          "output_type": "execute_result",
          "data": {
            "text/html": [
              "<div>\n",
              "<style scoped>\n",
              "    .dataframe tbody tr th:only-of-type {\n",
              "        vertical-align: middle;\n",
              "    }\n",
              "\n",
              "    .dataframe tbody tr th {\n",
              "        vertical-align: top;\n",
              "    }\n",
              "\n",
              "    .dataframe thead th {\n",
              "        text-align: right;\n",
              "    }\n",
              "</style>\n",
              "<table border=\"1\" class=\"dataframe\">\n",
              "  <thead>\n",
              "    <tr style=\"text-align: right;\">\n",
              "      <th></th>\n",
              "      <th>artist</th>\n",
              "      <th>song</th>\n",
              "      <th>danceability</th>\n",
              "      <th>energy</th>\n",
              "      <th>speechiness</th>\n",
              "      <th>acousticness</th>\n",
              "      <th>instrumentalness</th>\n",
              "      <th>liveness</th>\n",
              "      <th>valence</th>\n",
              "      <th>tempo</th>\n",
              "      <th>type</th>\n",
              "      <th>duration_ms</th>\n",
              "      <th>popularity</th>\n",
              "    </tr>\n",
              "  </thead>\n",
              "  <tbody>\n",
              "    <tr>\n",
              "      <th>0</th>\n",
              "      <td>Lil Uzi Vert</td>\n",
              "      <td>POP</td>\n",
              "      <td>0.025951</td>\n",
              "      <td>0.022768</td>\n",
              "      <td>0.058731</td>\n",
              "      <td>0.000729</td>\n",
              "      <td>0.0</td>\n",
              "      <td>0.086492</td>\n",
              "      <td>0.012638</td>\n",
              "      <td>0.027731</td>\n",
              "      <td>audio_features</td>\n",
              "      <td>0.027930</td>\n",
              "      <td>0.021808</td>\n",
              "    </tr>\n",
              "    <tr>\n",
              "      <th>1</th>\n",
              "      <td>Lil Uzi Vert</td>\n",
              "      <td>Celebration Station</td>\n",
              "      <td>0.026196</td>\n",
              "      <td>0.029305</td>\n",
              "      <td>0.021025</td>\n",
              "      <td>0.007659</td>\n",
              "      <td>0.0</td>\n",
              "      <td>0.014874</td>\n",
              "      <td>0.036265</td>\n",
              "      <td>0.028166</td>\n",
              "      <td>audio_features</td>\n",
              "      <td>0.023950</td>\n",
              "      <td>0.022898</td>\n",
              "    </tr>\n",
              "    <tr>\n",
              "      <th>2</th>\n",
              "      <td>Lil Uzi Vert</td>\n",
              "      <td>Bigger Than Life</td>\n",
              "      <td>0.027177</td>\n",
              "      <td>0.028583</td>\n",
              "      <td>0.027053</td>\n",
              "      <td>0.024645</td>\n",
              "      <td>0.0</td>\n",
              "      <td>0.036360</td>\n",
              "      <td>0.032785</td>\n",
              "      <td>0.027755</td>\n",
              "      <td>audio_features</td>\n",
              "      <td>0.023661</td>\n",
              "      <td>0.023262</td>\n",
              "    </tr>\n",
              "    <tr>\n",
              "      <th>3</th>\n",
              "      <td>Lil Uzi Vert</td>\n",
              "      <td>Venetia</td>\n",
              "      <td>0.027142</td>\n",
              "      <td>0.028773</td>\n",
              "      <td>0.024530</td>\n",
              "      <td>0.012285</td>\n",
              "      <td>0.0</td>\n",
              "      <td>0.016307</td>\n",
              "      <td>0.025733</td>\n",
              "      <td>0.028334</td>\n",
              "      <td>audio_features</td>\n",
              "      <td>0.023182</td>\n",
              "      <td>0.023625</td>\n",
              "    </tr>\n",
              "    <tr>\n",
              "      <th>4</th>\n",
              "      <td>Lil Uzi Vert</td>\n",
              "      <td>You Better Move</td>\n",
              "      <td>0.029488</td>\n",
              "      <td>0.021133</td>\n",
              "      <td>0.061955</td>\n",
              "      <td>0.012057</td>\n",
              "      <td>0.0</td>\n",
              "      <td>0.022477</td>\n",
              "      <td>0.014011</td>\n",
              "      <td>0.023557</td>\n",
              "      <td>audio_features</td>\n",
              "      <td>0.024144</td>\n",
              "      <td>0.022171</td>\n",
              "    </tr>\n",
              "  </tbody>\n",
              "</table>\n",
              "</div>"
            ],
            "text/plain": [
              "         artist                 song  ...  duration_ms  popularity\n",
              "0  Lil Uzi Vert                  POP  ...     0.027930    0.021808\n",
              "1  Lil Uzi Vert  Celebration Station  ...     0.023950    0.022898\n",
              "2  Lil Uzi Vert     Bigger Than Life  ...     0.023661    0.023262\n",
              "3  Lil Uzi Vert              Venetia  ...     0.023182    0.023625\n",
              "4  Lil Uzi Vert      You Better Move  ...     0.024144    0.022171\n",
              "\n",
              "[5 rows x 13 columns]"
            ]
          },
          "metadata": {
            "tags": []
          },
          "execution_count": 9
        }
      ]
    },
    {
      "cell_type": "markdown",
      "metadata": {
        "id": "0JxdYYqh7xKm"
      },
      "source": [
        "It is possible that songs that do not share genres have similar characteristics. Therefore, a new column was created in order to distinguish songs from different groups. K-Means Clustering was used to create the new feature."
      ]
    },
    {
      "cell_type": "code",
      "metadata": {
        "id": "9yJEaj507IPj",
        "colab": {
          "base_uri": "https://localhost:8080/",
          "height": 129
        },
        "outputId": "645acfbd-fbda-42b5-d7c9-602fea78ec80"
      },
      "source": [
        "# Use 10 clusters\n",
        "kmeans = KMeans(n_clusters=10, random_state=99)\n",
        "group = kmeans.fit_predict(full_features_scaled)\n",
        "\n",
        "# Normalize the predicted column\n",
        "group = preprocessing.normalize([group])\n",
        "group = pd.DataFrame(group)\n",
        "group.head()"
      ],
      "execution_count": null,
      "outputs": [
        {
          "output_type": "execute_result",
          "data": {
            "text/html": [
              "<div>\n",
              "<style scoped>\n",
              "    .dataframe tbody tr th:only-of-type {\n",
              "        vertical-align: middle;\n",
              "    }\n",
              "\n",
              "    .dataframe tbody tr th {\n",
              "        vertical-align: top;\n",
              "    }\n",
              "\n",
              "    .dataframe thead th {\n",
              "        text-align: right;\n",
              "    }\n",
              "</style>\n",
              "<table border=\"1\" class=\"dataframe\">\n",
              "  <thead>\n",
              "    <tr style=\"text-align: right;\">\n",
              "      <th></th>\n",
              "      <th>0</th>\n",
              "      <th>1</th>\n",
              "      <th>2</th>\n",
              "      <th>3</th>\n",
              "      <th>4</th>\n",
              "      <th>5</th>\n",
              "      <th>6</th>\n",
              "      <th>7</th>\n",
              "      <th>8</th>\n",
              "      <th>9</th>\n",
              "      <th>10</th>\n",
              "      <th>11</th>\n",
              "      <th>12</th>\n",
              "      <th>13</th>\n",
              "      <th>14</th>\n",
              "      <th>15</th>\n",
              "      <th>16</th>\n",
              "      <th>17</th>\n",
              "      <th>18</th>\n",
              "      <th>19</th>\n",
              "      <th>20</th>\n",
              "      <th>21</th>\n",
              "      <th>22</th>\n",
              "      <th>23</th>\n",
              "      <th>24</th>\n",
              "      <th>25</th>\n",
              "      <th>26</th>\n",
              "      <th>27</th>\n",
              "      <th>28</th>\n",
              "      <th>29</th>\n",
              "      <th>30</th>\n",
              "      <th>31</th>\n",
              "      <th>32</th>\n",
              "      <th>33</th>\n",
              "      <th>34</th>\n",
              "      <th>35</th>\n",
              "      <th>36</th>\n",
              "      <th>37</th>\n",
              "      <th>38</th>\n",
              "      <th>39</th>\n",
              "      <th>...</th>\n",
              "      <th>1557</th>\n",
              "      <th>1558</th>\n",
              "      <th>1559</th>\n",
              "      <th>1560</th>\n",
              "      <th>1561</th>\n",
              "      <th>1562</th>\n",
              "      <th>1563</th>\n",
              "      <th>1564</th>\n",
              "      <th>1565</th>\n",
              "      <th>1566</th>\n",
              "      <th>1567</th>\n",
              "      <th>1568</th>\n",
              "      <th>1569</th>\n",
              "      <th>1570</th>\n",
              "      <th>1571</th>\n",
              "      <th>1572</th>\n",
              "      <th>1573</th>\n",
              "      <th>1574</th>\n",
              "      <th>1575</th>\n",
              "      <th>1576</th>\n",
              "      <th>1577</th>\n",
              "      <th>1578</th>\n",
              "      <th>1579</th>\n",
              "      <th>1580</th>\n",
              "      <th>1581</th>\n",
              "      <th>1582</th>\n",
              "      <th>1583</th>\n",
              "      <th>1584</th>\n",
              "      <th>1585</th>\n",
              "      <th>1586</th>\n",
              "      <th>1587</th>\n",
              "      <th>1588</th>\n",
              "      <th>1589</th>\n",
              "      <th>1590</th>\n",
              "      <th>1591</th>\n",
              "      <th>1592</th>\n",
              "      <th>1593</th>\n",
              "      <th>1594</th>\n",
              "      <th>1595</th>\n",
              "      <th>1596</th>\n",
              "    </tr>\n",
              "  </thead>\n",
              "  <tbody>\n",
              "    <tr>\n",
              "      <th>0</th>\n",
              "      <td>0.0</td>\n",
              "      <td>0.004564</td>\n",
              "      <td>0.041078</td>\n",
              "      <td>0.004564</td>\n",
              "      <td>0.022821</td>\n",
              "      <td>0.013693</td>\n",
              "      <td>0.031949</td>\n",
              "      <td>0.013693</td>\n",
              "      <td>0.031949</td>\n",
              "      <td>0.041078</td>\n",
              "      <td>0.022821</td>\n",
              "      <td>0.041078</td>\n",
              "      <td>0.013693</td>\n",
              "      <td>0.027385</td>\n",
              "      <td>0.022821</td>\n",
              "      <td>0.027385</td>\n",
              "      <td>0.013693</td>\n",
              "      <td>0.041078</td>\n",
              "      <td>0.013693</td>\n",
              "      <td>0.041078</td>\n",
              "      <td>0.022821</td>\n",
              "      <td>0.013693</td>\n",
              "      <td>0.004564</td>\n",
              "      <td>0.027385</td>\n",
              "      <td>0.013693</td>\n",
              "      <td>0.004564</td>\n",
              "      <td>0.004564</td>\n",
              "      <td>0.022821</td>\n",
              "      <td>0.027385</td>\n",
              "      <td>0.027385</td>\n",
              "      <td>0.022821</td>\n",
              "      <td>0.022821</td>\n",
              "      <td>0.004564</td>\n",
              "      <td>0.031949</td>\n",
              "      <td>0.004564</td>\n",
              "      <td>0.031949</td>\n",
              "      <td>0.004564</td>\n",
              "      <td>0.022821</td>\n",
              "      <td>0.027385</td>\n",
              "      <td>0.004564</td>\n",
              "      <td>...</td>\n",
              "      <td>0.027385</td>\n",
              "      <td>0.004564</td>\n",
              "      <td>0.041078</td>\n",
              "      <td>0.041078</td>\n",
              "      <td>0.027385</td>\n",
              "      <td>0.004564</td>\n",
              "      <td>0.027385</td>\n",
              "      <td>0.027385</td>\n",
              "      <td>0.013693</td>\n",
              "      <td>0.004564</td>\n",
              "      <td>0.022821</td>\n",
              "      <td>0.0</td>\n",
              "      <td>0.041078</td>\n",
              "      <td>0.036514</td>\n",
              "      <td>0.027385</td>\n",
              "      <td>0.027385</td>\n",
              "      <td>0.022821</td>\n",
              "      <td>0.041078</td>\n",
              "      <td>0.027385</td>\n",
              "      <td>0.013693</td>\n",
              "      <td>0.041078</td>\n",
              "      <td>0.041078</td>\n",
              "      <td>0.018257</td>\n",
              "      <td>0.018257</td>\n",
              "      <td>0.041078</td>\n",
              "      <td>0.004564</td>\n",
              "      <td>0.022821</td>\n",
              "      <td>0.022821</td>\n",
              "      <td>0.027385</td>\n",
              "      <td>0.022821</td>\n",
              "      <td>0.022821</td>\n",
              "      <td>0.0</td>\n",
              "      <td>0.031949</td>\n",
              "      <td>0.041078</td>\n",
              "      <td>0.027385</td>\n",
              "      <td>0.022821</td>\n",
              "      <td>0.004564</td>\n",
              "      <td>0.022821</td>\n",
              "      <td>0.013693</td>\n",
              "      <td>0.013693</td>\n",
              "    </tr>\n",
              "  </tbody>\n",
              "</table>\n",
              "<p>1 rows × 1597 columns</p>\n",
              "</div>"
            ],
            "text/plain": [
              "   0         1         2         3     ...      1593      1594      1595      1596\n",
              "0   0.0  0.004564  0.041078  0.004564  ...  0.004564  0.022821  0.013693  0.013693\n",
              "\n",
              "[1 rows x 1597 columns]"
            ]
          },
          "metadata": {
            "tags": []
          },
          "execution_count": 10
        }
      ]
    },
    {
      "cell_type": "code",
      "metadata": {
        "id": "vzgt0gepDLxC",
        "colab": {
          "base_uri": "https://localhost:8080/",
          "height": 204
        },
        "outputId": "d21e5bc2-3325-4cc4-d2d4-33471adb4e13"
      },
      "source": [
        "# Change the dataframe from the wide to tall format\n",
        "group = group.unstack().reset_index()\n",
        "group.drop(group.columns[[0,1]], axis=1, inplace=True)\n",
        "\n",
        "# Rename the column\n",
        "group.columns = ['category']\n",
        "group.head()"
      ],
      "execution_count": null,
      "outputs": [
        {
          "output_type": "execute_result",
          "data": {
            "text/html": [
              "<div>\n",
              "<style scoped>\n",
              "    .dataframe tbody tr th:only-of-type {\n",
              "        vertical-align: middle;\n",
              "    }\n",
              "\n",
              "    .dataframe tbody tr th {\n",
              "        vertical-align: top;\n",
              "    }\n",
              "\n",
              "    .dataframe thead th {\n",
              "        text-align: right;\n",
              "    }\n",
              "</style>\n",
              "<table border=\"1\" class=\"dataframe\">\n",
              "  <thead>\n",
              "    <tr style=\"text-align: right;\">\n",
              "      <th></th>\n",
              "      <th>category</th>\n",
              "    </tr>\n",
              "  </thead>\n",
              "  <tbody>\n",
              "    <tr>\n",
              "      <th>0</th>\n",
              "      <td>0.000000</td>\n",
              "    </tr>\n",
              "    <tr>\n",
              "      <th>1</th>\n",
              "      <td>0.004564</td>\n",
              "    </tr>\n",
              "    <tr>\n",
              "      <th>2</th>\n",
              "      <td>0.041078</td>\n",
              "    </tr>\n",
              "    <tr>\n",
              "      <th>3</th>\n",
              "      <td>0.004564</td>\n",
              "    </tr>\n",
              "    <tr>\n",
              "      <th>4</th>\n",
              "      <td>0.022821</td>\n",
              "    </tr>\n",
              "  </tbody>\n",
              "</table>\n",
              "</div>"
            ],
            "text/plain": [
              "   category\n",
              "0  0.000000\n",
              "1  0.004564\n",
              "2  0.041078\n",
              "3  0.004564\n",
              "4  0.022821"
            ]
          },
          "metadata": {
            "tags": []
          },
          "execution_count": 11
        }
      ]
    },
    {
      "cell_type": "code",
      "metadata": {
        "id": "gDxaUV8mDXHO",
        "colab": {
          "base_uri": "https://localhost:8080/",
          "height": 290
        },
        "outputId": "25fc6ed4-d360-4e43-c7d4-b715256f1fd7"
      },
      "source": [
        "# Merge full_features_scaled and group dataframe together\n",
        "full_df = pd.concat([full_df, group], axis=1)\n",
        "full_df.head()"
      ],
      "execution_count": null,
      "outputs": [
        {
          "output_type": "execute_result",
          "data": {
            "text/html": [
              "<div>\n",
              "<style scoped>\n",
              "    .dataframe tbody tr th:only-of-type {\n",
              "        vertical-align: middle;\n",
              "    }\n",
              "\n",
              "    .dataframe tbody tr th {\n",
              "        vertical-align: top;\n",
              "    }\n",
              "\n",
              "    .dataframe thead th {\n",
              "        text-align: right;\n",
              "    }\n",
              "</style>\n",
              "<table border=\"1\" class=\"dataframe\">\n",
              "  <thead>\n",
              "    <tr style=\"text-align: right;\">\n",
              "      <th></th>\n",
              "      <th>artist</th>\n",
              "      <th>song</th>\n",
              "      <th>danceability</th>\n",
              "      <th>energy</th>\n",
              "      <th>speechiness</th>\n",
              "      <th>acousticness</th>\n",
              "      <th>instrumentalness</th>\n",
              "      <th>liveness</th>\n",
              "      <th>valence</th>\n",
              "      <th>tempo</th>\n",
              "      <th>type</th>\n",
              "      <th>duration_ms</th>\n",
              "      <th>popularity</th>\n",
              "      <th>category</th>\n",
              "    </tr>\n",
              "  </thead>\n",
              "  <tbody>\n",
              "    <tr>\n",
              "      <th>0</th>\n",
              "      <td>Lil Uzi Vert</td>\n",
              "      <td>POP</td>\n",
              "      <td>0.025951</td>\n",
              "      <td>0.022768</td>\n",
              "      <td>0.058731</td>\n",
              "      <td>0.000729</td>\n",
              "      <td>0.0</td>\n",
              "      <td>0.086492</td>\n",
              "      <td>0.012638</td>\n",
              "      <td>0.027731</td>\n",
              "      <td>audio_features</td>\n",
              "      <td>0.027930</td>\n",
              "      <td>0.021808</td>\n",
              "      <td>0.000000</td>\n",
              "    </tr>\n",
              "    <tr>\n",
              "      <th>1</th>\n",
              "      <td>Lil Uzi Vert</td>\n",
              "      <td>Celebration Station</td>\n",
              "      <td>0.026196</td>\n",
              "      <td>0.029305</td>\n",
              "      <td>0.021025</td>\n",
              "      <td>0.007659</td>\n",
              "      <td>0.0</td>\n",
              "      <td>0.014874</td>\n",
              "      <td>0.036265</td>\n",
              "      <td>0.028166</td>\n",
              "      <td>audio_features</td>\n",
              "      <td>0.023950</td>\n",
              "      <td>0.022898</td>\n",
              "      <td>0.004564</td>\n",
              "    </tr>\n",
              "    <tr>\n",
              "      <th>2</th>\n",
              "      <td>Lil Uzi Vert</td>\n",
              "      <td>Bigger Than Life</td>\n",
              "      <td>0.027177</td>\n",
              "      <td>0.028583</td>\n",
              "      <td>0.027053</td>\n",
              "      <td>0.024645</td>\n",
              "      <td>0.0</td>\n",
              "      <td>0.036360</td>\n",
              "      <td>0.032785</td>\n",
              "      <td>0.027755</td>\n",
              "      <td>audio_features</td>\n",
              "      <td>0.023661</td>\n",
              "      <td>0.023262</td>\n",
              "      <td>0.041078</td>\n",
              "    </tr>\n",
              "    <tr>\n",
              "      <th>3</th>\n",
              "      <td>Lil Uzi Vert</td>\n",
              "      <td>Venetia</td>\n",
              "      <td>0.027142</td>\n",
              "      <td>0.028773</td>\n",
              "      <td>0.024530</td>\n",
              "      <td>0.012285</td>\n",
              "      <td>0.0</td>\n",
              "      <td>0.016307</td>\n",
              "      <td>0.025733</td>\n",
              "      <td>0.028334</td>\n",
              "      <td>audio_features</td>\n",
              "      <td>0.023182</td>\n",
              "      <td>0.023625</td>\n",
              "      <td>0.004564</td>\n",
              "    </tr>\n",
              "    <tr>\n",
              "      <th>4</th>\n",
              "      <td>Lil Uzi Vert</td>\n",
              "      <td>You Better Move</td>\n",
              "      <td>0.029488</td>\n",
              "      <td>0.021133</td>\n",
              "      <td>0.061955</td>\n",
              "      <td>0.012057</td>\n",
              "      <td>0.0</td>\n",
              "      <td>0.022477</td>\n",
              "      <td>0.014011</td>\n",
              "      <td>0.023557</td>\n",
              "      <td>audio_features</td>\n",
              "      <td>0.024144</td>\n",
              "      <td>0.022171</td>\n",
              "      <td>0.022821</td>\n",
              "    </tr>\n",
              "  </tbody>\n",
              "</table>\n",
              "</div>"
            ],
            "text/plain": [
              "         artist                 song  ...  popularity  category\n",
              "0  Lil Uzi Vert                  POP  ...    0.021808  0.000000\n",
              "1  Lil Uzi Vert  Celebration Station  ...    0.022898  0.004564\n",
              "2  Lil Uzi Vert     Bigger Than Life  ...    0.023262  0.041078\n",
              "3  Lil Uzi Vert              Venetia  ...    0.023625  0.004564\n",
              "4  Lil Uzi Vert      You Better Move  ...    0.022171  0.022821\n",
              "\n",
              "[5 rows x 14 columns]"
            ]
          },
          "metadata": {
            "tags": []
          },
          "execution_count": 13
        }
      ]
    },
    {
      "cell_type": "code",
      "metadata": {
        "id": "x1MzaU4iZ-ov"
      },
      "source": [
        "# A function that takes the song's name and the number of similar songs that listeners want to find\n",
        "# to generate the final recommendation list\n",
        "def recommendation(name, num=1):\n",
        "  dist_arr = []\n",
        "\n",
        "  # Retrieve selected song's information\n",
        "  selected_song = full_df.loc[full_df.song.str.lower() == name, ]\n",
        "  # Extract the numeric data of the selected song\n",
        "  selected_song_num = selected_song.select_dtypes(include=numeric_types)\n",
        "\n",
        "  # Drop the selection song information\n",
        "  df = full_df[full_df.song.str.lower() != name]\n",
        "  # Create a sub-dataframe of df that only includes numeric data\n",
        "  df_numeric = df.select_dtypes(include=numeric_types)\n",
        "\n",
        "  # Calculate the distance of numeric features between selected song and all other songs using Euclidean distance\n",
        "  for i in range(len(df)):\n",
        "    song = pd.DataFrame(df_numeric.iloc[0,:]).T\n",
        "    # Calculate the distance\n",
        "    dist = euclidean(selected_song_num, song)\n",
        "    # Add the calculated distance to dist_arr list\n",
        "    dist_arr.append(dist)\n",
        "\n",
        "  # Merge the dist_arr list to the df dataframe\n",
        "  df['distance'] = dist_arr\n",
        "\n",
        "  # Sort the df dataframe by distance in ascending order\n",
        "  df = df.sort_values('distance')\n",
        "  \n",
        "  # Return the artists and \n",
        "  return df[['artist', 'song']][:num].reset_index()"
      ],
      "execution_count": null,
      "outputs": []
    },
    {
      "cell_type": "code",
      "metadata": {
        "id": "h782Qn8FzneM",
        "colab": {
          "base_uri": "https://localhost:8080/",
          "height": 448
        },
        "outputId": "6ce4b850-ffd2-402e-9e2b-67212c0df478"
      },
      "source": [
        "# Generate suggestion list of songs that are similar to ON by BTS\n",
        "recommendation('on', 10)"
      ],
      "execution_count": null,
      "outputs": [
        {
          "output_type": "stream",
          "text": [
            "/usr/local/lib/python3.7/dist-packages/ipykernel_launcher.py:25: SettingWithCopyWarning: \n",
            "A value is trying to be set on a copy of a slice from a DataFrame.\n",
            "Try using .loc[row_indexer,col_indexer] = value instead\n",
            "\n",
            "See the caveats in the documentation: https://pandas.pydata.org/pandas-docs/stable/user_guide/indexing.html#returning-a-view-versus-a-copy\n"
          ],
          "name": "stderr"
        },
        {
          "output_type": "execute_result",
          "data": {
            "text/html": [
              "<div>\n",
              "<style scoped>\n",
              "    .dataframe tbody tr th:only-of-type {\n",
              "        vertical-align: middle;\n",
              "    }\n",
              "\n",
              "    .dataframe tbody tr th {\n",
              "        vertical-align: top;\n",
              "    }\n",
              "\n",
              "    .dataframe thead th {\n",
              "        text-align: right;\n",
              "    }\n",
              "</style>\n",
              "<table border=\"1\" class=\"dataframe\">\n",
              "  <thead>\n",
              "    <tr style=\"text-align: right;\">\n",
              "      <th></th>\n",
              "      <th>index</th>\n",
              "      <th>artist</th>\n",
              "      <th>song</th>\n",
              "    </tr>\n",
              "  </thead>\n",
              "  <tbody>\n",
              "    <tr>\n",
              "      <th>0</th>\n",
              "      <td>0</td>\n",
              "      <td>Lil Uzi Vert</td>\n",
              "      <td>POP</td>\n",
              "    </tr>\n",
              "    <tr>\n",
              "      <th>1</th>\n",
              "      <td>1070</td>\n",
              "      <td>Megan Thee Stallion</td>\n",
              "      <td>Body</td>\n",
              "    </tr>\n",
              "    <tr>\n",
              "      <th>2</th>\n",
              "      <td>1069</td>\n",
              "      <td>Maluma</td>\n",
              "      <td>Hawái - Remix</td>\n",
              "    </tr>\n",
              "    <tr>\n",
              "      <th>3</th>\n",
              "      <td>1068</td>\n",
              "      <td>Justin Quiles</td>\n",
              "      <td>Jeans</td>\n",
              "    </tr>\n",
              "    <tr>\n",
              "      <th>4</th>\n",
              "      <td>1067</td>\n",
              "      <td>J Balvin</td>\n",
              "      <td>UN DIA (ONE DAY)</td>\n",
              "    </tr>\n",
              "    <tr>\n",
              "      <th>5</th>\n",
              "      <td>1066</td>\n",
              "      <td>Bad Bunny</td>\n",
              "      <td>TRELLAS</td>\n",
              "    </tr>\n",
              "    <tr>\n",
              "      <th>6</th>\n",
              "      <td>1065</td>\n",
              "      <td>Ritt Momney</td>\n",
              "      <td>Put Your Records On</td>\n",
              "    </tr>\n",
              "    <tr>\n",
              "      <th>7</th>\n",
              "      <td>1064</td>\n",
              "      <td>Bad Bunny</td>\n",
              "      <td>120</td>\n",
              "    </tr>\n",
              "    <tr>\n",
              "      <th>8</th>\n",
              "      <td>1063</td>\n",
              "      <td>Drake</td>\n",
              "      <td>Laugh Now Cry Later (feat. Lil Durk)</td>\n",
              "    </tr>\n",
              "    <tr>\n",
              "      <th>9</th>\n",
              "      <td>1062</td>\n",
              "      <td>Bad Bunny</td>\n",
              "      <td>SORRY PAPI</td>\n",
              "    </tr>\n",
              "  </tbody>\n",
              "</table>\n",
              "</div>"
            ],
            "text/plain": [
              "   index               artist                                  song\n",
              "0      0         Lil Uzi Vert                                   POP\n",
              "1   1070  Megan Thee Stallion                                  Body\n",
              "2   1069               Maluma                         Hawái - Remix\n",
              "3   1068        Justin Quiles                                 Jeans\n",
              "4   1067             J Balvin                      UN DIA (ONE DAY)\n",
              "5   1066            Bad Bunny                               TRELLAS\n",
              "6   1065          Ritt Momney                   Put Your Records On\n",
              "7   1064            Bad Bunny                                   120\n",
              "8   1063                Drake  Laugh Now Cry Later (feat. Lil Durk)\n",
              "9   1062            Bad Bunny                            SORRY PAPI"
            ]
          },
          "metadata": {
            "tags": []
          },
          "execution_count": 36
        }
      ]
    }
  ]
}